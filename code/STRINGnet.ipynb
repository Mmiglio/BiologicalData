{
 "cells": [
  {
   "cell_type": "code",
   "execution_count": 1,
   "metadata": {},
   "outputs": [],
   "source": [
    "import urllib.parse\n",
    "import urllib.request\n",
    "import pandas as pd\n",
    "\n",
    "# Constants\n",
    "URL_UNIPROT = 'https://www.uniprot.org/uploadlists/'\n",
    "URL_STRING = 'http://string-db.org/api/tsv/interactorsList?'\n",
    "PATH_ORIGINAL_DB = '../datasets/original.txt'"
   ]
  },
  {
   "cell_type": "code",
   "execution_count": 2,
   "metadata": {},
   "outputs": [],
   "source": [
    "# Import original dataset: convert to a unique query string\n",
    "original_proteins = ''\n",
    "with open(PATH_ORIGINAL_DB) as file:\n",
    "    for line in file:\n",
    "        original_proteins += line[:-1] + ' '"
   ]
  },
  {
   "cell_type": "code",
   "execution_count": 3,
   "metadata": {},
   "outputs": [
    {
     "name": "stdout",
     "output_type": "stream",
     "text": [
      "From\tTo\n",
      "Q7KZ85\t9606.ENSP00000319104\n",
      "O75791\t9606.ENSP00000339186\n",
      "P62993\t9606.ENSP00000376345\n",
      "Q13588\t9606.ENSP00000284154\n",
      "Q06124\t9606.ENSP00000340944\n",
      "P29350\t9606.ENSP00000391592\n",
      "A6NKC9\t9606.ENSP00000327\n"
     ]
    }
   ],
   "source": [
    "# Make query from UniProt to STRING\n",
    "\n",
    "params_map = {\n",
    "'from': 'ACC',\n",
    "'to': 'STRING_ID',\n",
    "'format': 'tab',\n",
    "'query': original_proteins[:-1],\n",
    "'columns': 'id'\n",
    "}\n",
    "\n",
    "data = urllib.parse.urlencode(params_map)\n",
    "data = data.encode('utf-8')\n",
    "req = urllib.request.Request(URL_UNIPROT, data)\n",
    "with urllib.request.urlopen(req) as f:\n",
    "    response = f.read()\n",
    "print(response.decode('utf-8')[:200])"
   ]
  },
  {
   "cell_type": "code",
   "execution_count": 4,
   "metadata": {},
   "outputs": [
    {
     "data": {
      "text/html": [
       "<div>\n",
       "<style scoped>\n",
       "    .dataframe tbody tr th:only-of-type {\n",
       "        vertical-align: middle;\n",
       "    }\n",
       "\n",
       "    .dataframe tbody tr th {\n",
       "        vertical-align: top;\n",
       "    }\n",
       "\n",
       "    .dataframe thead th {\n",
       "        text-align: right;\n",
       "    }\n",
       "</style>\n",
       "<table border=\"1\" class=\"dataframe\">\n",
       "  <thead>\n",
       "    <tr style=\"text-align: right;\">\n",
       "      <th></th>\n",
       "      <th>id</th>\n",
       "      <th>string</th>\n",
       "    </tr>\n",
       "  </thead>\n",
       "  <tbody>\n",
       "    <tr>\n",
       "      <th>0</th>\n",
       "      <td>Q7KZ85</td>\n",
       "      <td>9606.ENSP00000319104</td>\n",
       "    </tr>\n",
       "    <tr>\n",
       "      <th>1</th>\n",
       "      <td>O75791</td>\n",
       "      <td>9606.ENSP00000339186</td>\n",
       "    </tr>\n",
       "    <tr>\n",
       "      <th>2</th>\n",
       "      <td>P62993</td>\n",
       "      <td>9606.ENSP00000376345</td>\n",
       "    </tr>\n",
       "    <tr>\n",
       "      <th>3</th>\n",
       "      <td>Q13588</td>\n",
       "      <td>9606.ENSP00000284154</td>\n",
       "    </tr>\n",
       "    <tr>\n",
       "      <th>4</th>\n",
       "      <td>Q06124</td>\n",
       "      <td>9606.ENSP00000340944</td>\n",
       "    </tr>\n",
       "  </tbody>\n",
       "</table>\n",
       "</div>"
      ],
      "text/plain": [
       "       id                string\n",
       "0  Q7KZ85  9606.ENSP00000319104\n",
       "1  O75791  9606.ENSP00000339186\n",
       "2  P62993  9606.ENSP00000376345\n",
       "3  Q13588  9606.ENSP00000284154\n",
       "4  Q06124  9606.ENSP00000340944"
      ]
     },
     "execution_count": 4,
     "metadata": {},
     "output_type": "execute_result"
    }
   ],
   "source": [
    "# Create dataframe with Swissprot - STRING mapping for original dataset\n",
    "string_ids = pd.DataFrame( list(map(lambda x: x.split(), response.decode('utf-8').split('\\n')[:-1]))[1:], columns = ['id','string'] )\n",
    "string_ids.head()"
   ]
  },
  {
   "cell_type": "code",
   "execution_count": 6,
   "metadata": {},
   "outputs": [
    {
     "data": {
      "text/plain": [
       "True"
      ]
     },
     "execution_count": 6,
     "metadata": {},
     "output_type": "execute_result"
    }
   ],
   "source": [
    "len(string_ids.id.values) == len(set(string_ids.id.values))"
   ]
  },
  {
   "cell_type": "code",
   "execution_count": 7,
   "metadata": {},
   "outputs": [],
   "source": [
    "'''Retrive interactors for the query protein (STRING ID)'''\n",
    "\n",
    "def string_request(protein):\n",
    "\n",
    "    params = {\n",
    "        'identifier': protein\n",
    "    }\n",
    "\n",
    "    data = urllib.parse.urlencode(params)\n",
    "    data = data.encode('utf-8')\n",
    "    req = urllib.request.Request(URL_STRING, data)\n",
    "    with urllib.request.urlopen(req) as f:\n",
    "        response = f.read()\n",
    "    # Header and query protein excluded; last empty string excluded\n",
    "    return response.decode('utf-8').split('\\n')[2:-1]"
   ]
  },
  {
   "cell_type": "code",
   "execution_count": 8,
   "metadata": {},
   "outputs": [],
   "source": [
    "interactors = []\n",
    "for protein in string_ids.string.values:\n",
    "    interactors.extend(string_request(protein))"
   ]
  },
  {
   "cell_type": "code",
   "execution_count": 9,
   "metadata": {},
   "outputs": [
    {
     "data": {
      "text/plain": [
       "False"
      ]
     },
     "execution_count": 9,
     "metadata": {},
     "output_type": "execute_result"
    }
   ],
   "source": [
    "len(interactors) == len(set(interactors))"
   ]
  },
  {
   "cell_type": "code",
   "execution_count": 7,
   "metadata": {},
   "outputs": [
    {
     "name": "stdout",
     "output_type": "stream",
     "text": [
      "Entry\tyourlist:M202002116746803381A1F0E0DB47453E0216320D77A3ACT\n",
      "O75122\t9606.ENSP00000417518\n",
      "P17948\t9606.ENSP00000282397\n",
      "P10747\t9606.ENSP00000324890\n",
      "P15153\t9606.ENSP00000249071\n",
      "Q5T9C2\t9606.ENSP00000362\n"
     ]
    }
   ],
   "source": [
    "params_str = {\n",
    "'from': 'STRING_ID',\n",
    "'to': 'ACC',\n",
    "'format': 'tab',\n",
    "'query': ','.join(set(interactors)),\n",
    "'columns': 'id'\n",
    "}\n",
    "\n",
    "data = urllib.parse.urlencode(params_str)\n",
    "data = data.encode('utf-8')\n",
    "req = urllib.request.Request(URL_UNIPROT, data)\n",
    "with urllib.request.urlopen(req) as f:\n",
    "    response = f.read()\n",
    "print(response.decode('utf-8')[:200])"
   ]
  },
  {
   "cell_type": "code",
   "execution_count": 8,
   "metadata": {},
   "outputs": [],
   "source": [
    "# Create dataframe with Swissprot - STRING mapping for original dataset + interactors\n",
    "\n",
    "frames = [string_ids, pd.DataFrame( list(map(lambda x: x.split(), \n",
    "                                             response.decode('utf-8').split('\\n')[:-1]))[1:], columns = ['id','string'] )]\n",
    "string_dataset = pd.concat(frames, sort = False)"
   ]
  },
  {
   "cell_type": "code",
   "execution_count": 9,
   "metadata": {},
   "outputs": [
    {
     "data": {
      "text/html": [
       "<div>\n",
       "<style scoped>\n",
       "    .dataframe tbody tr th:only-of-type {\n",
       "        vertical-align: middle;\n",
       "    }\n",
       "\n",
       "    .dataframe tbody tr th {\n",
       "        vertical-align: top;\n",
       "    }\n",
       "\n",
       "    .dataframe thead th {\n",
       "        text-align: right;\n",
       "    }\n",
       "</style>\n",
       "<table border=\"1\" class=\"dataframe\">\n",
       "  <thead>\n",
       "    <tr style=\"text-align: right;\">\n",
       "      <th></th>\n",
       "      <th>id</th>\n",
       "      <th>string</th>\n",
       "    </tr>\n",
       "  </thead>\n",
       "  <tbody>\n",
       "    <tr>\n",
       "      <th>0</th>\n",
       "      <td>Q7KZ85</td>\n",
       "      <td>9606.ENSP00000319104</td>\n",
       "    </tr>\n",
       "    <tr>\n",
       "      <th>1</th>\n",
       "      <td>O75791</td>\n",
       "      <td>9606.ENSP00000339186</td>\n",
       "    </tr>\n",
       "    <tr>\n",
       "      <th>2</th>\n",
       "      <td>P62993</td>\n",
       "      <td>9606.ENSP00000376345</td>\n",
       "    </tr>\n",
       "    <tr>\n",
       "      <th>3</th>\n",
       "      <td>Q13588</td>\n",
       "      <td>9606.ENSP00000284154</td>\n",
       "    </tr>\n",
       "    <tr>\n",
       "      <th>4</th>\n",
       "      <td>Q06124</td>\n",
       "      <td>9606.ENSP00000340944</td>\n",
       "    </tr>\n",
       "  </tbody>\n",
       "</table>\n",
       "</div>"
      ],
      "text/plain": [
       "       id                string\n",
       "0  Q7KZ85  9606.ENSP00000319104\n",
       "1  O75791  9606.ENSP00000339186\n",
       "2  P62993  9606.ENSP00000376345\n",
       "3  Q13588  9606.ENSP00000284154\n",
       "4  Q06124  9606.ENSP00000340944"
      ]
     },
     "execution_count": 9,
     "metadata": {},
     "output_type": "execute_result"
    }
   ],
   "source": [
    "string_dataset.head()"
   ]
  },
  {
   "cell_type": "code",
   "execution_count": 10,
   "metadata": {},
   "outputs": [
    {
     "data": {
      "text/plain": [
       "(491, 2)"
      ]
     },
     "execution_count": 10,
     "metadata": {},
     "output_type": "execute_result"
    }
   ],
   "source": [
    "string_dataset.shape"
   ]
  },
  {
   "cell_type": "code",
   "execution_count": 11,
   "metadata": {},
   "outputs": [],
   "source": [
    "string_dataset.to_csv('../datasets/string.cvs')"
   ]
  }
 ],
 "metadata": {
  "kernelspec": {
   "display_name": "Python 3",
   "language": "python",
   "name": "python3"
  },
  "language_info": {
   "codemirror_mode": {
    "name": "ipython",
    "version": 3
   },
   "file_extension": ".py",
   "mimetype": "text/x-python",
   "name": "python",
   "nbconvert_exporter": "python",
   "pygments_lexer": "ipython3",
   "version": "3.7.3"
  }
 },
 "nbformat": 4,
 "nbformat_minor": 2
}
