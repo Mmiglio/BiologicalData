{
 "cells": [
  {
   "cell_type": "markdown",
   "metadata": {},
   "source": [
    "## Load original dataset"
   ]
  },
  {
   "cell_type": "code",
   "execution_count": 1,
   "metadata": {},
   "outputs": [],
   "source": [
    "with open(\"../../datasets/original.txt\") as f:\n",
    "    dataset = f.read().splitlines()"
   ]
  },
  {
   "cell_type": "markdown",
   "metadata": {},
   "source": [
    "## Map UniProt IDs to CATH Ids\n",
    "\n",
    "The file containign the map from UniProt + pdb to CATH id can be found here:  https://www.ebi.ac.uk/pdbe/docs/sifts/quick.html\n",
    "\n",
    "Knowing CATH id it is possible to use their API to obtain informations abbout cath superfamily. Hower the API doesn't always work. For example, consider retrieving infos about `2cubA00`: from the CATH website it is possible to see this entry but the API returns an error http://www.cathdb.info/version/v4_1_0/api/rest/domain_summary/2cubA00\n",
    "\n",
    "For this reason we had to download a file from CATH containing all the informations about superfamilies: the file is called `cath-b-newest-all.gz` and it can be found here http://cathdb.info/wiki?id=data:index#cath_daily_snapshot."
   ]
  },
  {
   "cell_type": "code",
   "execution_count": 2,
   "metadata": {},
   "outputs": [],
   "source": [
    "import pandas as pd\n",
    "import gzip\n",
    "\n",
    "with gzip.open('../../data/pdb_chain_cath_uniprot.tsv.gz') as f:\n",
    "    # skip first row since it cotains only metadata\n",
    "    df = pd.read_csv(f, sep='\\t', header=1)"
   ]
  },
  {
   "cell_type": "code",
   "execution_count": 3,
   "metadata": {},
   "outputs": [
    {
     "data": {
      "text/html": [
       "<div>\n",
       "<style scoped>\n",
       "    .dataframe tbody tr th:only-of-type {\n",
       "        vertical-align: middle;\n",
       "    }\n",
       "\n",
       "    .dataframe tbody tr th {\n",
       "        vertical-align: top;\n",
       "    }\n",
       "\n",
       "    .dataframe thead th {\n",
       "        text-align: right;\n",
       "    }\n",
       "</style>\n",
       "<table border=\"1\" class=\"dataframe\">\n",
       "  <thead>\n",
       "    <tr style=\"text-align: right;\">\n",
       "      <th></th>\n",
       "      <th>PDB</th>\n",
       "      <th>CHAIN</th>\n",
       "      <th>SP_PRIMARY</th>\n",
       "      <th>CATH_ID</th>\n",
       "    </tr>\n",
       "  </thead>\n",
       "  <tbody>\n",
       "    <tr>\n",
       "      <td>213</td>\n",
       "      <td>1a07</td>\n",
       "      <td>A</td>\n",
       "      <td>P12931</td>\n",
       "      <td>1a07A00</td>\n",
       "    </tr>\n",
       "    <tr>\n",
       "      <td>214</td>\n",
       "      <td>1a07</td>\n",
       "      <td>B</td>\n",
       "      <td>P12931</td>\n",
       "      <td>1a07B00</td>\n",
       "    </tr>\n",
       "    <tr>\n",
       "      <td>215</td>\n",
       "      <td>1a08</td>\n",
       "      <td>A</td>\n",
       "      <td>P12931</td>\n",
       "      <td>1a08A00</td>\n",
       "    </tr>\n",
       "    <tr>\n",
       "      <td>216</td>\n",
       "      <td>1a08</td>\n",
       "      <td>B</td>\n",
       "      <td>P12931</td>\n",
       "      <td>1a08B00</td>\n",
       "    </tr>\n",
       "    <tr>\n",
       "      <td>217</td>\n",
       "      <td>1a09</td>\n",
       "      <td>A</td>\n",
       "      <td>P12931</td>\n",
       "      <td>1a09A00</td>\n",
       "    </tr>\n",
       "  </tbody>\n",
       "</table>\n",
       "</div>"
      ],
      "text/plain": [
       "      PDB CHAIN SP_PRIMARY  CATH_ID\n",
       "213  1a07     A     P12931  1a07A00\n",
       "214  1a07     B     P12931  1a07B00\n",
       "215  1a08     A     P12931  1a08A00\n",
       "216  1a08     B     P12931  1a08B00\n",
       "217  1a09     A     P12931  1a09A00"
      ]
     },
     "execution_count": 3,
     "metadata": {},
     "output_type": "execute_result"
    }
   ],
   "source": [
    "# drop entries relative to sequences not found in our original dataset\n",
    "df = df.loc[df['SP_PRIMARY'].isin(dataset)]\n",
    "df.head()"
   ]
  },
  {
   "cell_type": "code",
   "execution_count": 4,
   "metadata": {},
   "outputs": [
    {
     "name": "stdout",
     "output_type": "stream",
     "text": [
      "The original dataset contains 92 sequences\n",
      "There are 55 unique sequences in the UNIPROT to CATH ID dataset\n"
     ]
    }
   ],
   "source": [
    "num_unique_sequences = df['SP_PRIMARY'].nunique()\n",
    "print('The original dataset contains {} sequences'.format(len(dataset)))\n",
    "print('There are {} unique sequences in the UNIPROT to CATH ID dataset'.format(num_unique_sequences))"
   ]
  },
  {
   "cell_type": "code",
   "execution_count": 5,
   "metadata": {},
   "outputs": [
    {
     "data": {
      "text/html": [
       "<div>\n",
       "<style scoped>\n",
       "    .dataframe tbody tr th:only-of-type {\n",
       "        vertical-align: middle;\n",
       "    }\n",
       "\n",
       "    .dataframe tbody tr th {\n",
       "        vertical-align: top;\n",
       "    }\n",
       "\n",
       "    .dataframe thead th {\n",
       "        text-align: right;\n",
       "    }\n",
       "</style>\n",
       "<table border=\"1\" class=\"dataframe\">\n",
       "  <thead>\n",
       "    <tr style=\"text-align: right;\">\n",
       "      <th></th>\n",
       "      <th>CATH_ID</th>\n",
       "      <th>superfamily</th>\n",
       "    </tr>\n",
       "  </thead>\n",
       "  <tbody>\n",
       "    <tr>\n",
       "      <td>0</td>\n",
       "      <td>101mA00</td>\n",
       "      <td>1.10.490.10</td>\n",
       "    </tr>\n",
       "    <tr>\n",
       "      <td>1</td>\n",
       "      <td>102lA00</td>\n",
       "      <td>1.10.530.40</td>\n",
       "    </tr>\n",
       "    <tr>\n",
       "      <td>2</td>\n",
       "      <td>102mA00</td>\n",
       "      <td>1.10.490.10</td>\n",
       "    </tr>\n",
       "    <tr>\n",
       "      <td>3</td>\n",
       "      <td>103lA00</td>\n",
       "      <td>1.10.530.40</td>\n",
       "    </tr>\n",
       "    <tr>\n",
       "      <td>4</td>\n",
       "      <td>103mA00</td>\n",
       "      <td>1.10.490.10</td>\n",
       "    </tr>\n",
       "  </tbody>\n",
       "</table>\n",
       "</div>"
      ],
      "text/plain": [
       "   CATH_ID  superfamily\n",
       "0  101mA00  1.10.490.10\n",
       "1  102lA00  1.10.530.40\n",
       "2  102mA00  1.10.490.10\n",
       "3  103lA00  1.10.530.40\n",
       "4  103mA00  1.10.490.10"
      ]
     },
     "execution_count": 5,
     "metadata": {},
     "output_type": "execute_result"
    }
   ],
   "source": [
    "with gzip.open('../../data/cath-b-newest-all.gz') as f:\n",
    "    cath_classification = pd.read_csv(\n",
    "        f, sep=' ', usecols=[0,2], \n",
    "        header=None, names=['CATH_ID', 'superfamily']\n",
    "    )\n",
    "cath_classification.head()"
   ]
  },
  {
   "cell_type": "code",
   "execution_count": 6,
   "metadata": {},
   "outputs": [
    {
     "data": {
      "text/html": [
       "<div>\n",
       "<style scoped>\n",
       "    .dataframe tbody tr th:only-of-type {\n",
       "        vertical-align: middle;\n",
       "    }\n",
       "\n",
       "    .dataframe tbody tr th {\n",
       "        vertical-align: top;\n",
       "    }\n",
       "\n",
       "    .dataframe thead th {\n",
       "        text-align: right;\n",
       "    }\n",
       "</style>\n",
       "<table border=\"1\" class=\"dataframe\">\n",
       "  <thead>\n",
       "    <tr style=\"text-align: right;\">\n",
       "      <th></th>\n",
       "      <th>SP_PRIMARY</th>\n",
       "      <th>superfamily</th>\n",
       "      <th>topology</th>\n",
       "      <th>architecture</th>\n",
       "      <th>class</th>\n",
       "    </tr>\n",
       "    <tr>\n",
       "      <th>CATH_ID</th>\n",
       "      <th></th>\n",
       "      <th></th>\n",
       "      <th></th>\n",
       "      <th></th>\n",
       "      <th></th>\n",
       "    </tr>\n",
       "  </thead>\n",
       "  <tbody>\n",
       "    <tr>\n",
       "      <td>1a07A00</td>\n",
       "      <td>P12931</td>\n",
       "      <td>3.30.505.10</td>\n",
       "      <td>3.30.505</td>\n",
       "      <td>3.30</td>\n",
       "      <td>3</td>\n",
       "    </tr>\n",
       "    <tr>\n",
       "      <td>1a07B00</td>\n",
       "      <td>P12931</td>\n",
       "      <td>3.30.505.10</td>\n",
       "      <td>3.30.505</td>\n",
       "      <td>3.30</td>\n",
       "      <td>3</td>\n",
       "    </tr>\n",
       "    <tr>\n",
       "      <td>1a08A00</td>\n",
       "      <td>P12931</td>\n",
       "      <td>3.30.505.10</td>\n",
       "      <td>3.30.505</td>\n",
       "      <td>3.30</td>\n",
       "      <td>3</td>\n",
       "    </tr>\n",
       "    <tr>\n",
       "      <td>1a08B00</td>\n",
       "      <td>P12931</td>\n",
       "      <td>3.30.505.10</td>\n",
       "      <td>3.30.505</td>\n",
       "      <td>3.30</td>\n",
       "      <td>3</td>\n",
       "    </tr>\n",
       "    <tr>\n",
       "      <td>1a09A00</td>\n",
       "      <td>P12931</td>\n",
       "      <td>3.30.505.10</td>\n",
       "      <td>3.30.505</td>\n",
       "      <td>3.30</td>\n",
       "      <td>3</td>\n",
       "    </tr>\n",
       "  </tbody>\n",
       "</table>\n",
       "</div>"
      ],
      "text/plain": [
       "        SP_PRIMARY  superfamily  topology architecture class\n",
       "CATH_ID                                                     \n",
       "1a07A00     P12931  3.30.505.10  3.30.505         3.30     3\n",
       "1a07B00     P12931  3.30.505.10  3.30.505         3.30     3\n",
       "1a08A00     P12931  3.30.505.10  3.30.505         3.30     3\n",
       "1a08B00     P12931  3.30.505.10  3.30.505         3.30     3\n",
       "1a09A00     P12931  3.30.505.10  3.30.505         3.30     3"
      ]
     },
     "execution_count": 6,
     "metadata": {},
     "output_type": "execute_result"
    }
   ],
   "source": [
    "## join the two dataframes and retrieve informations about class, topology and architectures\n",
    "results_dataframe = cath_classification.set_index('CATH_ID') \\\n",
    "                        .join(df.set_index('CATH_ID')) \\\n",
    "                        .dropna(how = 'any')\n",
    "\n",
    "# parse superfamily column\n",
    "results_dataframe['topology'] = results_dataframe['superfamily'] \\\n",
    "                                    .apply(lambda sf: \".\".join(sf.split('.')[:-1]))\n",
    "\n",
    "results_dataframe['architecture'] = results_dataframe['superfamily'] \\\n",
    "                                    .apply(lambda sf: \".\".join(sf.split('.')[:-2]))\n",
    "\n",
    "results_dataframe['class'] = results_dataframe['superfamily'] \\\n",
    "                                    .apply(lambda sf: sf.split('.')[0])\n",
    "\n",
    "results_dataframe = results_dataframe.loc[:, ['SP_PRIMARY', 'superfamily', \n",
    "                                              'topology', 'architecture', 'class']]\n",
    "results_dataframe.head()"
   ]
  },
  {
   "cell_type": "code",
   "execution_count": 7,
   "metadata": {},
   "outputs": [],
   "source": [
    "def get_statistics(df, column):\n",
    "    print('There are {} unique {}'.format(\n",
    "        results_dataframe.groupby(column)[column].nunique().shape[0],\n",
    "        column\n",
    "    ))\n",
    "    \n",
    "    print('\\nNumber of sequences where a certain {} appears:'.format(column))\n",
    "    sequences_with_domain = results_dataframe.groupby(column)['SP_PRIMARY'] \\\n",
    "        .unique().apply(lambda x: len(x)).sort_values(ascending=False)\n",
    "    print(sequences_with_domain.head())\n",
    "    \n",
    "    print(\"\\nNumber of {} per sequence\".format(column))\n",
    "    domains_per_sequence = results_dataframe.groupby('SP_PRIMARY')[column] \\\n",
    "        .unique().apply(lambda x: len(x)).sort_values(ascending=False)\n",
    "    print(domains_per_sequence.head())\n",
    "    \n",
    "    return {'domain_abundance': sequences_with_domain, 'num_domains_per_sequence': domains_per_sequence}"
   ]
  },
  {
   "cell_type": "code",
   "execution_count": 8,
   "metadata": {},
   "outputs": [
    {
     "name": "stdout",
     "output_type": "stream",
     "text": [
      "There are 21 unique superfamily\n",
      "\n",
      "Number of sequences where a certain superfamily appears:\n",
      "superfamily\n",
      "3.30.505.10    44\n",
      "2.30.30.40     24\n",
      "1.10.510.10    14\n",
      "3.30.200.20    14\n",
      "2.30.29.30      9\n",
      "Name: SP_PRIMARY, dtype: int64\n",
      "\n",
      "Number of superfamily per sequence\n",
      "SP_PRIMARY\n",
      "Q06187    5\n",
      "P00519    5\n",
      "P15498    5\n",
      "P07332    5\n",
      "Q08881    4\n",
      "Name: superfamily, dtype: int64\n"
     ]
    }
   ],
   "source": [
    "stat_superfamily = get_statistics(results_dataframe, 'superfamily')"
   ]
  },
  {
   "cell_type": "code",
   "execution_count": 9,
   "metadata": {},
   "outputs": [
    {
     "name": "stdout",
     "output_type": "stream",
     "text": [
      "There are 21 unique topology\n",
      "\n",
      "Number of sequences where a certain topology appears:\n",
      "topology\n",
      "3.30.505    44\n",
      "2.30.30     24\n",
      "1.10.510    14\n",
      "3.30.200    14\n",
      "2.30.29      9\n",
      "Name: SP_PRIMARY, dtype: int64\n",
      "\n",
      "Number of topology per sequence\n",
      "SP_PRIMARY\n",
      "Q06187    5\n",
      "P00519    5\n",
      "P15498    5\n",
      "P07332    5\n",
      "Q08881    4\n",
      "Name: topology, dtype: int64\n"
     ]
    }
   ],
   "source": [
    "stat_topology = get_statistics(results_dataframe, 'topology')"
   ]
  },
  {
   "cell_type": "code",
   "execution_count": 10,
   "metadata": {},
   "outputs": [
    {
     "name": "stdout",
     "output_type": "stream",
     "text": [
      "There are 8 unique architecture\n",
      "\n",
      "Number of sequences where a certain architecture appears:\n",
      "architecture\n",
      "3.30    46\n",
      "2.30    32\n",
      "1.10    25\n",
      "1.20     4\n",
      "3.10     3\n",
      "Name: SP_PRIMARY, dtype: int64\n",
      "\n",
      "Number of architecture per sequence\n",
      "SP_PRIMARY\n",
      "Q08881    4\n",
      "P00519    4\n",
      "P15498    4\n",
      "Q13322    3\n",
      "P42684    3\n",
      "Name: architecture, dtype: int64\n"
     ]
    }
   ],
   "source": [
    "stat_architecture = get_statistics(results_dataframe, 'architecture')"
   ]
  },
  {
   "cell_type": "code",
   "execution_count": 11,
   "metadata": {},
   "outputs": [
    {
     "name": "stdout",
     "output_type": "stream",
     "text": [
      "There are 4 unique class\n",
      "\n",
      "Number of sequences where a certain class appears:\n",
      "class\n",
      "3    46\n",
      "2    32\n",
      "1    25\n",
      "4     1\n",
      "Name: SP_PRIMARY, dtype: int64\n",
      "\n",
      "Number of class per sequence\n",
      "SP_PRIMARY\n",
      "Q08881    4\n",
      "P41240    3\n",
      "P07948    3\n",
      "P27986    3\n",
      "P20936    3\n",
      "Name: class, dtype: int64\n"
     ]
    }
   ],
   "source": [
    "stat_class = get_statistics(results_dataframe, 'class')"
   ]
  },
  {
   "cell_type": "code",
   "execution_count": 12,
   "metadata": {},
   "outputs": [],
   "source": [
    "# labels for some of our entries.\n",
    "dic_name = {\n",
    "    '3.30.505.10': 'SH2 domain',\n",
    "    '3.30': '2-Layer\\n Sandwich',\n",
    "    '3': 'Alpha Beta',   \n",
    "    '3.10': 'Roll',\n",
    "    '3.90': 'Alpha-Beta\\n Complex',\n",
    "    '2.30.30.40': 'SH3 domain',\n",
    "    '2.30': 'Roll',\n",
    "    '2': 'Mainly Beta',   \n",
    "    '1.10.510.10': 'Transferase\\n domain 1',\n",
    "    '1.10': 'Orthogonal\\n Bundle', \n",
    "    '1.20': 'Up-down\\n Bundle',\n",
    "    '1': 'Mainly Alpha',     \n",
    "    '3.30.200.20': 'Phosphorylase\\n Kinase domain 1',\n",
    "    '2.30.29.30': 'Phosphotyrosine BD', \n",
    "    '1.10.555.10': 'GTPase-GAP domain', \n",
    "    '3.30.60.20': '3.30.60.20', \n",
    "    '4': 'Few secondary\\n structure'\n",
    "}"
   ]
  },
  {
   "cell_type": "code",
   "execution_count": 13,
   "metadata": {},
   "outputs": [],
   "source": [
    "# save al figures in this directory\n",
    "FIGURE_PATH = '../../figures/'"
   ]
  },
  {
   "cell_type": "code",
   "execution_count": 14,
   "metadata": {},
   "outputs": [],
   "source": [
    "import matplotlib.pylab as pylab\n",
    "import matplotlib.pyplot as plt\n",
    "params = {'axes.labelsize': 'x-large',\n",
    "         'axes.titlesize':'x-large',\n",
    "         'xtick.labelsize':'x-large',\n",
    "         'ytick.labelsize':'x-large'}\n",
    "pylab.rcParams.update(params)"
   ]
  },
  {
   "cell_type": "code",
   "execution_count": 15,
   "metadata": {},
   "outputs": [
    {
     "data": {
      "image/png": "[encoded data removed]",
      "text/plain": [
       "<Figure size 864x432 with 3 Axes>"
      ]
     },
     "metadata": {
      "needs_background": "light"
     },
     "output_type": "display_data"
    }
   ],
   "source": [
    "# Fraction of entries where a certain structure has been observed\n",
    "\n",
    "fig = plt.figure(figsize=(12,6))\n",
    "plt.subplot(131)\n",
    "res = stat_superfamily['domain_abundance'][:6]\n",
    "names = [dic_name[key] for key in res.index]\n",
    "plt.barh(y=names, width=res.values/num_unique_sequences)\n",
    "plt.gca().invert_yaxis()\n",
    "plt.title('Superfamily')\n",
    "plt.xlabel('Fraction of sequences')\n",
    "\n",
    "plt.subplot(132)\n",
    "res = stat_architecture['domain_abundance'][:6]\n",
    "names = [dic_name[key] for key in res.index]\n",
    "plt.barh(y=names, width=res.values/num_unique_sequences)\n",
    "plt.gca().invert_yaxis()\n",
    "plt.title('Architecture')\n",
    "plt.xlabel('Fraction of sequences')\n",
    "\n",
    "plt.subplot(133)\n",
    "res = stat_class['domain_abundance'][:6]\n",
    "names = [dic_name[key] for key in res.index]\n",
    "plt.barh(y=names, width=res.values/num_unique_sequences)\n",
    "plt.gca().invert_yaxis()\n",
    "plt.title('Class')\n",
    "plt.xlabel('Fraction of sequences')\n",
    "\n",
    "plt.tight_layout()\n",
    "plt.savefig(FIGURE_PATH + \"CATH_classification.pdf\")\n",
    "\n",
    "plt.show()"
   ]
  },
  {
   "cell_type": "code",
   "execution_count": 16,
   "metadata": {},
   "outputs": [
    {
     "data": {
      "image/png": "[encoded data removed]",
      "text/plain": [
       "<Figure size 864x432 with 3 Axes>"
      ]
     },
     "metadata": {},
     "output_type": "display_data"
    }
   ],
   "source": [
    "# Number of superfamilies/architectures/classes per sequence\n",
    "\n",
    "fig = plt.figure(figsize=(12,6))\n",
    "\n",
    "plt.subplot(131)\n",
    "res = stat_superfamily['num_domains_per_sequence'].value_counts()\n",
    "plt.pie(res, labels=res.index,\n",
    "        autopct='%1.1f%%', shadow=True, startangle=90)\n",
    "plt.xlabel(\"Number of superfamilies per sequence\")\n",
    "\n",
    "plt.subplot(132)\n",
    "res = stat_architecture['num_domains_per_sequence'].value_counts()\n",
    "plt.pie(res, labels=res.index,\n",
    "        autopct='%1.1f%%', shadow=True, startangle=90)\n",
    "plt.xlabel(\"Number of architectures per sequence\")\n",
    "\n",
    "plt.subplot(133)\n",
    "res = stat_class['num_domains_per_sequence'].value_counts()\n",
    "plt.pie(res, labels=res.index,\n",
    "        autopct='%1.1f%%', shadow=True, startangle=90)\n",
    "plt.xlabel(\"Number of classes per sequence\")\n",
    "\n",
    "plt.tight_layout()\n",
    "plt.savefig(FIGURE_PATH + \"NumArchitectures_pie.pdf\")\n",
    "plt.show()"
   ]
  },
  {
   "cell_type": "markdown",
   "metadata": {},
   "source": [
    "## CATH API\n",
    "\n",
    "To obtain the superfamily associated to a certain cath id it is possible to use the following function"
   ]
  },
  {
   "cell_type": "code",
   "execution_count": 23,
   "metadata": {},
   "outputs": [],
   "source": [
    "import urllib\n",
    "import json\n",
    "\n",
    "def get_superfamily_id(cath_id):\n",
    "    \"\"\"\n",
    "    CATH api documentation here\n",
    "    https://github.com/UCLOrengoGroup/cath-api-docs\n",
    "    \"\"\"\n",
    "    url = \"http://www.cathdb.info/version/v4_1_0/api/rest/domain_summary/\" + cath_id  \n",
    "    try: \n",
    "        response =  urllib.request.urlopen(url).read()\n",
    "        parsed_json = (json.loads(response.decode()))\n",
    "        return parsed_json['data']['superfamily_id']\n",
    "    except:\n",
    "        print(url)\n",
    "        return 'Error'"
   ]
  },
  {
   "cell_type": "code",
   "execution_count": 24,
   "metadata": {},
   "outputs": [
    {
     "data": {
      "text/plain": [
       "'3.30.505.10'"
      ]
     },
     "execution_count": 24,
     "metadata": {},
     "output_type": "execute_result"
    }
   ],
   "source": [
    "get_superfamily_id('1a07A00')"
   ]
  },
  {
   "cell_type": "code",
   "execution_count": 25,
   "metadata": {},
   "outputs": [
    {
     "name": "stdout",
     "output_type": "stream",
     "text": [
      "http://www.cathdb.info/version/v4_1_0/api/rest/domain_summary/2cubA00\n"
     ]
    },
    {
     "data": {
      "text/plain": [
       "'Error'"
      ]
     },
     "execution_count": 25,
     "metadata": {},
     "output_type": "execute_result"
    }
   ],
   "source": [
    "# as said, it doesn't always work...\n",
    "get_superfamily_id('2cubA00')"
   ]
  }
 ],
 "metadata": {
  "kernelspec": {
   "display_name": "Python 3",
   "language": "python",
   "name": "python3"
  },
  "language_info": {
   "codemirror_mode": {
    "name": "ipython",
    "version": 3
   },
   "file_extension": ".py",
   "mimetype": "text/x-python",
   "name": "python",
   "nbconvert_exporter": "python",
   "pygments_lexer": "ipython3",
   "version": "3.7.4"
  }
 },
 "nbformat": 4,
 "nbformat_minor": 2
}
