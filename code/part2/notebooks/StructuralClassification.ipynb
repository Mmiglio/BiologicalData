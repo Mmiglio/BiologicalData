{
 "cells": [
  {
   "cell_type": "code",
   "execution_count": 1,
   "metadata": {},
   "outputs": [],
   "source": [
    "import sys\n",
    "sys.path.insert(0,'../part1')\n",
    "\n",
    "from utils import *\n",
    "import pandas as pd\n",
    "\n",
    "# Constant\n",
    "PSIBLAST_PATH = '../../results/psiblast_search.txt'\n",
    "PDB_PATH =  '../../datasets/pdb.cvs'"
   ]
  },
  {
   "cell_type": "code",
   "execution_count": 2,
   "metadata": {},
   "outputs": [],
   "source": [
    "# Load domain positions identified by psiblast\n",
    "\n",
    "psiblast_sh2_positions = {} # dict { acc : list of dicts { start : start_pos , end : end_pos } }\n",
    "with open(PSIBLAST_PATH) as f:\n",
    "    for line in f:\n",
    "        if len(line)>1:\n",
    "            qseqid, sseqid, pident, length, mismatch, gapopen, \\\n",
    "            qstart, qend, sstart, send, evalue, bitscore = line.strip().split()\n",
    "            if sseqid not in psiblast_sh2_positions:\n",
    "                psiblast_sh2_positions[sseqid] = [{'start':int(sstart), 'end':int(send)}]\n",
    "            else:\n",
    "                pos = {'start':int(sstart), 'end':int(send)}\n",
    "                # check if the position has alredy been inserted\n",
    "                # otherwise insert it in the dictionary\n",
    "                if pos in psiblast_sh2_positions[sseqid]:\n",
    "                    # position already inserted\n",
    "                    continue\n",
    "                else:\n",
    "                    psiblast_sh2_positions[sseqid].append(pos)\n",
    "        else:\n",
    "            break"
   ]
  },
  {
   "cell_type": "code",
   "execution_count": 3,
   "metadata": {},
   "outputs": [
    {
     "data": {
      "text/plain": [
       "[{'start': 152, 'end': 246}]"
      ]
     },
     "execution_count": 3,
     "metadata": {},
     "output_type": "execute_result"
    }
   ],
   "source": [
    "psiblast_sh2_positions['P12931']"
   ]
  },
  {
   "cell_type": "code",
   "execution_count": 4,
   "metadata": {},
   "outputs": [
    {
     "data": {
      "text/html": [
       "<div>\n",
       "<style scoped>\n",
       "    .dataframe tbody tr th:only-of-type {\n",
       "        vertical-align: middle;\n",
       "    }\n",
       "\n",
       "    .dataframe tbody tr th {\n",
       "        vertical-align: top;\n",
       "    }\n",
       "\n",
       "    .dataframe thead th {\n",
       "        text-align: right;\n",
       "    }\n",
       "</style>\n",
       "<table border=\"1\" class=\"dataframe\">\n",
       "  <thead>\n",
       "    <tr style=\"text-align: right;\">\n",
       "      <th></th>\n",
       "      <th>pdb</th>\n",
       "      <th>sp_primary</th>\n",
       "      <th>chain</th>\n",
       "      <th>sp_beg</th>\n",
       "      <th>sp_end</th>\n",
       "    </tr>\n",
       "  </thead>\n",
       "  <tbody>\n",
       "    <tr>\n",
       "      <th>0</th>\n",
       "      <td>1a07</td>\n",
       "      <td>P12931</td>\n",
       "      <td>A</td>\n",
       "      <td>144</td>\n",
       "      <td>249</td>\n",
       "    </tr>\n",
       "    <tr>\n",
       "      <th>1</th>\n",
       "      <td>1a07</td>\n",
       "      <td>P12931</td>\n",
       "      <td>B</td>\n",
       "      <td>144</td>\n",
       "      <td>249</td>\n",
       "    </tr>\n",
       "    <tr>\n",
       "      <th>2</th>\n",
       "      <td>1a08</td>\n",
       "      <td>P12931</td>\n",
       "      <td>A</td>\n",
       "      <td>144</td>\n",
       "      <td>249</td>\n",
       "    </tr>\n",
       "    <tr>\n",
       "      <th>3</th>\n",
       "      <td>1a08</td>\n",
       "      <td>P12931</td>\n",
       "      <td>B</td>\n",
       "      <td>144</td>\n",
       "      <td>249</td>\n",
       "    </tr>\n",
       "    <tr>\n",
       "      <th>4</th>\n",
       "      <td>1a09</td>\n",
       "      <td>P12931</td>\n",
       "      <td>A</td>\n",
       "      <td>144</td>\n",
       "      <td>249</td>\n",
       "    </tr>\n",
       "  </tbody>\n",
       "</table>\n",
       "</div>"
      ],
      "text/plain": [
       "    pdb sp_primary chain  sp_beg  sp_end\n",
       "0  1a07     P12931     A     144     249\n",
       "1  1a07     P12931     B     144     249\n",
       "2  1a08     P12931     A     144     249\n",
       "3  1a08     P12931     B     144     249\n",
       "4  1a09     P12931     A     144     249"
      ]
     },
     "execution_count": 4,
     "metadata": {},
     "output_type": "execute_result"
    }
   ],
   "source": [
    "# Load pdb dataset\n",
    "pdb = pd.read_csv(PDB_PATH)\n",
    "pdb.head()"
   ]
  },
  {
   "cell_type": "code",
   "execution_count": 5,
   "metadata": {},
   "outputs": [
    {
     "data": {
      "text/plain": [
       "sp_beg    False\n",
       "dtype: bool"
      ]
     },
     "execution_count": 5,
     "metadata": {},
     "output_type": "execute_result"
    }
   ],
   "source": [
    "pdb[['sp_beg']].isna().any()"
   ]
  },
  {
   "cell_type": "code",
   "execution_count": 6,
   "metadata": {},
   "outputs": [
    {
     "data": {
      "text/plain": [
       "sp_end    False\n",
       "dtype: bool"
      ]
     },
     "execution_count": 6,
     "metadata": {},
     "output_type": "execute_result"
    }
   ],
   "source": [
    "pdb[['sp_end']].isna().any()"
   ]
  },
  {
   "cell_type": "code",
   "execution_count": 7,
   "metadata": {},
   "outputs": [],
   "source": [
    "def filter_pdb(domain, pdb, threshold):\n",
    "    # create list of positions covered by the domain\n",
    "    domain_pos = createPositionSet(domain)\n",
    "    \n",
    "    pos_from_pdb = lambda pos: set(i for i in range(pos[0],pos[1]+1))\n",
    "    \n",
    "    indices = []\n",
    "    for i, pos in enumerate(pdb):\n",
    "        # create list of positions covered by the pdb \n",
    "        pdb_pos = pos_from_pdb(pos)\n",
    "        \n",
    "        overlap = pdb_pos.intersection(domain_pos)\n",
    "        if len(overlap):\n",
    "            true_positive = len(overlap)\n",
    "            false_negative = len(domain_pos) - len(overlap)\n",
    "            false_positive = len(pdb_pos) - len(overlap)\n",
    "\n",
    "            precision = true_positive / (true_positive + false_positive)\n",
    "            sensitivity = true_positive / (true_positive + false_negative)\n",
    "            f1 = 2 * (precision * sensitivity) / (precision + sensitivity)\n",
    "\n",
    "            if f1 > threshold: \n",
    "                indices.append(i)\n",
    "        \n",
    "    return indices"
   ]
  },
  {
   "cell_type": "code",
   "execution_count": 8,
   "metadata": {},
   "outputs": [
    {
     "name": "stdout",
     "output_type": "stream",
     "text": [
      "Number of pdbs covering SH2 domain: 352\n"
     ]
    }
   ],
   "source": [
    "covering_pdbs = []\n",
    "\n",
    "for protein in psiblast_sh2_positions:\n",
    "    # extract all the domain matches\n",
    "    domain_extremes = psiblast_sh2_positions[protein]\n",
    "    # extract all the pdbs available for the protein\n",
    "    pdb_extremes = pdb.loc[pdb.sp_primary == protein, ['sp_beg', 'sp_end']].values\n",
    "    pdb_ids = pdb.loc[pdb.sp_primary == protein, ['pdb']].values\n",
    "    # if there are available pdbs, check if they cover a domain \n",
    "    if len(pdb_extremes):\n",
    "        for domain in domain_extremes:\n",
    "            indices = filter_pdb(domain_extremes, pdb_extremes, 0.1)\n",
    "            covering_pdbs.extend(pdb_ids[indices].tolist())\n",
    "            \n",
    "covering_pdbs = set([x[0] for x in covering_pdbs])\n",
    "print('Number of pdbs covering SH2 domain:', len(covering_pdbs))"
   ]
  },
  {
   "cell_type": "code",
   "execution_count": 9,
   "metadata": {},
   "outputs": [],
   "source": [
    "with open('../../datasets/covering_pdb.txt', 'w') as fout:\n",
    "    for pdb_id in covering_pdbs:\n",
    "        fout.write(\"{}\\n\".format(pdb_id))"
   ]
  },
  {
   "cell_type": "code",
   "execution_count": null,
   "metadata": {},
   "outputs": [],
   "source": []
  }
 ],
 "metadata": {
  "kernelspec": {
   "display_name": "Python 3",
   "language": "python",
   "name": "python3"
  },
  "language_info": {
   "codemirror_mode": {
    "name": "ipython",
    "version": 3
   },
   "file_extension": ".py",
   "mimetype": "text/x-python",
   "name": "python",
   "nbconvert_exporter": "python",
   "pygments_lexer": "ipython3",
   "version": "3.7.3"
  }
 },
 "nbformat": 4,
 "nbformat_minor": 2
}
