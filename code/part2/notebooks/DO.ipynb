{
 "cells": [
  {
   "cell_type": "code",
   "execution_count": 16,
   "metadata": {},
   "outputs": [],
   "source": [
    "import pandas as pd\n",
    "import requests\n",
    "import json\n",
    "import gzip\n",
    "import sys\n",
    "\n",
    "# Constants\n",
    "URL = 'https://www.ebi.ac.uk/europepmc/annotations_api/annotationsByArticleIds'"
   ]
  },
  {
   "cell_type": "code",
   "execution_count": 8,
   "metadata": {},
   "outputs": [],
   "source": [
    "# Extract PUBmed ids about human proteins \n",
    "uniprot_pmid = {}  # { pmid : list_of_uniprot_ids }\n",
    "with gzip.open(\"../data/human_pubmed.tab.gz\") as f:\n",
    "    for line in f:\n",
    "        line = line.decode().strip().split(\"\\t\")\n",
    "        if len(line) == 3:\n",
    "            for pmid in line[2].split(\"; \"):\n",
    "                uniprot_pmid.setdefault(pmid, []).append(line[0])"
   ]
  },
  {
   "cell_type": "code",
   "execution_count": 10,
   "metadata": {},
   "outputs": [],
   "source": [
    "del uniprot_pmid['PubMed ID'] # delete header"
   ]
  },
  {
   "cell_type": "code",
   "execution_count": 13,
   "metadata": {},
   "outputs": [
    {
     "data": {
      "text/plain": [
       "9591.125"
      ]
     },
     "execution_count": 13,
     "metadata": {},
     "output_type": "execute_result"
    }
   ],
   "source": [
    "len(uniprot_pmid) / 8 # number of queries vs pubmed"
   ]
  },
  {
   "cell_type": "code",
   "execution_count": null,
   "metadata": {},
   "outputs": [],
   "source": [
    "'''\n",
    "# DO mining\n",
    "diseases = {}  # { uniprot_id : list_of_diseases }\n",
    "pmids = list(uniprot_pmid.keys())\n",
    "\n",
    "for i in range(0, len(pmids), 8):\n",
    "    # Parameters definition for the query\n",
    "    params = {\n",
    "        \"articleIds\": \",\".join([\"MED:{}\".format(pmid) for pmid in pmids[i:i+8]]),\n",
    "        \"type\": \"Diseases\",\n",
    "        \"section\": \"Abstract\",\n",
    "        \"format\": \"JSON\"\n",
    "    }\n",
    "    # Make query\n",
    "    r = requests.get(URL, params=params)\n",
    "    print(i, r.status_code)\n",
    "    obj = json.loads(r.text)\n",
    "    for ele in obj:\n",
    "        print(ele)\n",
    "        for annotation in ele.get(\"annotations\"):\n",
    "            for uniprot_id in uniprot_pmid[ele[\"extId\"]]:\n",
    "                diseases.setdefault(uniprot_id, []).append(annotation[\"exact\"])\n",
    "# Save result\n",
    "json.dump(diseases, '../data/uniprot_do.json', indent = 1)\n",
    "\n",
    "'''"
   ]
  },
  {
   "cell_type": "code",
   "execution_count": 19,
   "metadata": {},
   "outputs": [
    {
     "data": {
      "text/html": [
       "<div>\n",
       "<style scoped>\n",
       "    .dataframe tbody tr th:only-of-type {\n",
       "        vertical-align: middle;\n",
       "    }\n",
       "\n",
       "    .dataframe tbody tr th {\n",
       "        vertical-align: top;\n",
       "    }\n",
       "\n",
       "    .dataframe thead th {\n",
       "        text-align: right;\n",
       "    }\n",
       "</style>\n",
       "<table border=\"1\" class=\"dataframe\">\n",
       "  <thead>\n",
       "    <tr style=\"text-align: right;\">\n",
       "      <th></th>\n",
       "      <th>entry_acc</th>\n",
       "      <th>do_id</th>\n",
       "    </tr>\n",
       "  </thead>\n",
       "  <tbody>\n",
       "    <tr>\n",
       "      <th>21824</th>\n",
       "      <td>A0A075B6H7</td>\n",
       "      <td>0050460</td>\n",
       "    </tr>\n",
       "    <tr>\n",
       "      <th>21822</th>\n",
       "      <td>A0A075B6H7</td>\n",
       "      <td>0060058</td>\n",
       "    </tr>\n",
       "    <tr>\n",
       "      <th>21825</th>\n",
       "      <td>A0A075B6H7</td>\n",
       "      <td>0080322</td>\n",
       "    </tr>\n",
       "    <tr>\n",
       "      <th>21821</th>\n",
       "      <td>A0A075B6H7</td>\n",
       "      <td>1240</td>\n",
       "    </tr>\n",
       "    <tr>\n",
       "      <th>21823</th>\n",
       "      <td>A0A075B6H7</td>\n",
       "      <td>12858</td>\n",
       "    </tr>\n",
       "  </tbody>\n",
       "</table>\n",
       "</div>"
      ],
      "text/plain": [
       "        entry_acc    do_id\n",
       "21824  A0A075B6H7  0050460\n",
       "21822  A0A075B6H7  0060058\n",
       "21825  A0A075B6H7  0080322\n",
       "21821  A0A075B6H7     1240\n",
       "21823  A0A075B6H7    12858"
      ]
     },
     "execution_count": 19,
     "metadata": {},
     "output_type": "execute_result"
    }
   ],
   "source": [
    "# Load DO on humans\n",
    "with open('../data/uniprot_do.json') as file:\n",
    "    do_human_dict = json.load(file)\n",
    "\n",
    "# Create DO dataframe\n",
    "do_human = []\n",
    "for key in do_human_dict.keys():\n",
    "    for ids in do_human_dict[key]:\n",
    "        do_human.append([key, ids])\n",
    "do_human = pd.DataFrame(do_human, columns=['entry_acc', 'do_id'])\n",
    "do_human.sort_values(by=['entry_acc', 'do_id']).head()"
   ]
  },
  {
   "cell_type": "code",
   "execution_count": 21,
   "metadata": {},
   "outputs": [],
   "source": [
    "# Parse the disease ontology\n",
    "do = {}  # { do_id : do_object }\n",
    "obj = {}  # { id: do_id, name: definition, xref: list_of_omim_ids, is_a: list_of_parents, is_obsolete: True }\n",
    "with open(\"../data/doid.obo\") as f:\n",
    "    for line in f:\n",
    "        line = line.strip().split(\": \")\n",
    "        if line and len(line) == 2:\n",
    "            k, v = line\n",
    "            if k == \"id\" and v.startswith(\"DOID:\"):\n",
    "                obj[\"id\"] = v.split(\":\")[1]\n",
    "            elif k == \"xref\" and \"OMIM\" in v:\n",
    "                obj[\"omim\"] = v.split(\":\")[1]\n",
    "            elif k == \"name\":\n",
    "                obj[\"name\"] = v\n",
    "            elif k == \"is_a\":\n",
    "                obj.setdefault(\"is_a\", []).append(v.split()[0].split(\":\")[1])\n",
    "            elif k == \"is_obsolete\":\n",
    "                obj[\"is_obsolete\"] = True\n",
    "        else:\n",
    "            if obj.get(\"id\") and not obj.get(\"is_obsolete\"):\n",
    "                do[obj[\"id\"]] = obj\n",
    "            obj = {}"
   ]
  },
  {
   "cell_type": "code",
   "execution_count": null,
   "metadata": {},
   "outputs": [],
   "source": []
  }
 ],
 "metadata": {
  "kernelspec": {
   "display_name": "Python 3",
   "language": "python",
   "name": "python3"
  },
  "language_info": {
   "codemirror_mode": {
    "name": "ipython",
    "version": 3
   },
   "file_extension": ".py",
   "mimetype": "text/x-python",
   "name": "python",
   "nbconvert_exporter": "python",
   "pygments_lexer": "ipython3",
   "version": "3.7.3"
  }
 },
 "nbformat": 4,
 "nbformat_minor": 2
}
