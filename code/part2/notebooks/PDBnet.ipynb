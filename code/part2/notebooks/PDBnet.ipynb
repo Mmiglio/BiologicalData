{
 "cells": [
  {
   "cell_type": "code",
   "execution_count": 1,
   "metadata": {},
   "outputs": [],
   "source": [
    "import pandas as pd\n",
    "from Bio import SeqIO\n",
    "\n",
    "# Constants\n",
    "PATH_ORIGINAL_DB = '../datasets/original.txt'\n",
    "PATH_REFERENCE_DB = '../data/SwissProt_humans_reference_all.fasta'\n",
    "PATH_PDB_UNIPROT_REL = '../data/pdb_chain_uniprot.tsv'"
   ]
  },
  {
   "cell_type": "code",
   "execution_count": 2,
   "metadata": {},
   "outputs": [
    {
     "name": "stdout",
     "output_type": "stream",
     "text": [
      "There are 20367 human proteins in SwissProt\n"
     ]
    }
   ],
   "source": [
    "human = SeqIO.parse(PATH_REFERENCE_DB, 'fasta')\n",
    "\n",
    "list_human = []\n",
    "for sequence in human:\n",
    "    name = sequence.id # name is in the form sp|P46108|CRK_HUMAN\n",
    "    list_human.append(name.split('|')[1])\n",
    "\n",
    "print('There are {} human proteins in SwissProt'.format(len(list_human)))"
   ]
  },
  {
   "cell_type": "code",
   "execution_count": 3,
   "metadata": {},
   "outputs": [],
   "source": [
    "# Import original dataset\n",
    "original_proteins = []\n",
    "with open(PATH_ORIGINAL_DB) as file:\n",
    "    for line in file:\n",
    "        original_proteins.append(line[:-1])"
   ]
  },
  {
   "cell_type": "code",
   "execution_count": 4,
   "metadata": {},
   "outputs": [
    {
     "name": "stdout",
     "output_type": "stream",
     "text": [
      "Proteins in the original dataset: 92\n"
     ]
    },
    {
     "data": {
      "text/plain": [
       "['Q7KZ85', 'O75791', 'P62993', 'Q13588', 'Q06124']"
      ]
     },
     "execution_count": 4,
     "metadata": {},
     "output_type": "execute_result"
    }
   ],
   "source": [
    "# Check output\n",
    "print('Proteins in the original dataset:', len(original_proteins))\n",
    "original_proteins[:5]"
   ]
  },
  {
   "cell_type": "code",
   "execution_count": 5,
   "metadata": {
    "scrolled": false
   },
   "outputs": [
    {
     "data": {
      "text/html": [
       "<div>\n",
       "<style scoped>\n",
       "    .dataframe tbody tr th:only-of-type {\n",
       "        vertical-align: middle;\n",
       "    }\n",
       "\n",
       "    .dataframe tbody tr th {\n",
       "        vertical-align: top;\n",
       "    }\n",
       "\n",
       "    .dataframe thead th {\n",
       "        text-align: right;\n",
       "    }\n",
       "</style>\n",
       "<table border=\"1\" class=\"dataframe\">\n",
       "  <thead>\n",
       "    <tr style=\"text-align: right;\">\n",
       "      <th></th>\n",
       "      <th>pdb</th>\n",
       "      <th>chain</th>\n",
       "      <th>sp_primary</th>\n",
       "      <th>res_beg</th>\n",
       "      <th>res_end</th>\n",
       "      <th>pdb_beg</th>\n",
       "      <th>pdb_end</th>\n",
       "      <th>sp_beg</th>\n",
       "      <th>sp_end</th>\n",
       "    </tr>\n",
       "  </thead>\n",
       "  <tbody>\n",
       "    <tr>\n",
       "      <th>0</th>\n",
       "      <td>101m</td>\n",
       "      <td>A</td>\n",
       "      <td>P02185</td>\n",
       "      <td>1</td>\n",
       "      <td>154</td>\n",
       "      <td>0</td>\n",
       "      <td>153</td>\n",
       "      <td>1</td>\n",
       "      <td>154</td>\n",
       "    </tr>\n",
       "    <tr>\n",
       "      <th>1</th>\n",
       "      <td>102l</td>\n",
       "      <td>A</td>\n",
       "      <td>P00720</td>\n",
       "      <td>1</td>\n",
       "      <td>40</td>\n",
       "      <td>1</td>\n",
       "      <td>40</td>\n",
       "      <td>1</td>\n",
       "      <td>40</td>\n",
       "    </tr>\n",
       "    <tr>\n",
       "      <th>2</th>\n",
       "      <td>102l</td>\n",
       "      <td>A</td>\n",
       "      <td>P00720</td>\n",
       "      <td>42</td>\n",
       "      <td>165</td>\n",
       "      <td>41</td>\n",
       "      <td>None</td>\n",
       "      <td>41</td>\n",
       "      <td>164</td>\n",
       "    </tr>\n",
       "    <tr>\n",
       "      <th>3</th>\n",
       "      <td>102m</td>\n",
       "      <td>A</td>\n",
       "      <td>P02185</td>\n",
       "      <td>1</td>\n",
       "      <td>154</td>\n",
       "      <td>0</td>\n",
       "      <td>153</td>\n",
       "      <td>1</td>\n",
       "      <td>154</td>\n",
       "    </tr>\n",
       "    <tr>\n",
       "      <th>4</th>\n",
       "      <td>103l</td>\n",
       "      <td>A</td>\n",
       "      <td>P00720</td>\n",
       "      <td>1</td>\n",
       "      <td>40</td>\n",
       "      <td>1</td>\n",
       "      <td>None</td>\n",
       "      <td>1</td>\n",
       "      <td>40</td>\n",
       "    </tr>\n",
       "  </tbody>\n",
       "</table>\n",
       "</div>"
      ],
      "text/plain": [
       "    pdb chain sp_primary  res_beg  res_end pdb_beg pdb_end  sp_beg  sp_end\n",
       "0  101m     A     P02185        1      154       0     153       1     154\n",
       "1  102l     A     P00720        1       40       1      40       1      40\n",
       "2  102l     A     P00720       42      165      41    None      41     164\n",
       "3  102m     A     P02185        1      154       0     153       1     154\n",
       "4  103l     A     P00720        1       40       1    None       1      40"
      ]
     },
     "execution_count": 5,
     "metadata": {},
     "output_type": "execute_result"
    }
   ],
   "source": [
    "# Import pdb - uniprot relation file\n",
    "pdb_rel = pd.read_csv(PATH_PDB_UNIPROT_REL, sep = '\\t', header = 1)\n",
    "pdb_rel.columns = list(map(lambda x: x.lower(), pdb_rel.columns.values))\n",
    "pdb_rel.head()"
   ]
  },
  {
   "cell_type": "code",
   "execution_count": 6,
   "metadata": {},
   "outputs": [
    {
     "name": "stdout",
     "output_type": "stream",
     "text": [
      "Proteins of the original dataset in PDB: 60\n"
     ]
    }
   ],
   "source": [
    "# Retrive proteins in the original dataset with a PDB \n",
    "print('Proteins of the original dataset in PDB:', len(set(pdb_rel.sp_primary) & set(original_proteins)))"
   ]
  },
  {
   "cell_type": "code",
   "execution_count": 7,
   "metadata": {},
   "outputs": [
    {
     "data": {
      "text/html": [
       "<div>\n",
       "<style scoped>\n",
       "    .dataframe tbody tr th:only-of-type {\n",
       "        vertical-align: middle;\n",
       "    }\n",
       "\n",
       "    .dataframe tbody tr th {\n",
       "        vertical-align: top;\n",
       "    }\n",
       "\n",
       "    .dataframe thead th {\n",
       "        text-align: right;\n",
       "    }\n",
       "</style>\n",
       "<table border=\"1\" class=\"dataframe\">\n",
       "  <thead>\n",
       "    <tr style=\"text-align: right;\">\n",
       "      <th></th>\n",
       "      <th>pdb</th>\n",
       "      <th>sp_primary</th>\n",
       "      <th>chain</th>\n",
       "    </tr>\n",
       "  </thead>\n",
       "  <tbody>\n",
       "    <tr>\n",
       "      <th>185</th>\n",
       "      <td>1a07</td>\n",
       "      <td>P12931</td>\n",
       "      <td>A</td>\n",
       "    </tr>\n",
       "    <tr>\n",
       "      <th>186</th>\n",
       "      <td>1a07</td>\n",
       "      <td>P12931</td>\n",
       "      <td>B</td>\n",
       "    </tr>\n",
       "    <tr>\n",
       "      <th>187</th>\n",
       "      <td>1a08</td>\n",
       "      <td>P12931</td>\n",
       "      <td>A</td>\n",
       "    </tr>\n",
       "    <tr>\n",
       "      <th>188</th>\n",
       "      <td>1a08</td>\n",
       "      <td>P12931</td>\n",
       "      <td>B</td>\n",
       "    </tr>\n",
       "    <tr>\n",
       "      <th>189</th>\n",
       "      <td>1a09</td>\n",
       "      <td>P12931</td>\n",
       "      <td>A</td>\n",
       "    </tr>\n",
       "  </tbody>\n",
       "</table>\n",
       "</div>"
      ],
      "text/plain": [
       "      pdb sp_primary chain\n",
       "185  1a07     P12931     A\n",
       "186  1a07     P12931     B\n",
       "187  1a08     P12931     A\n",
       "188  1a08     P12931     B\n",
       "189  1a09     P12931     A"
      ]
     },
     "execution_count": 7,
     "metadata": {},
     "output_type": "execute_result"
    }
   ],
   "source": [
    "# Create first version of the PDB dataset: only original proteins in PDB\n",
    "pdb_dataset = pdb_rel.loc[pdb_rel.sp_primary.isin(original_proteins),['pdb','sp_primary','chain']].copy()\n",
    "pdb_dataset.head()"
   ]
  },
  {
   "cell_type": "code",
   "execution_count": 8,
   "metadata": {},
   "outputs": [
    {
     "data": {
      "text/plain": [
       "(1252, 3)"
      ]
     },
     "execution_count": 8,
     "metadata": {},
     "output_type": "execute_result"
    }
   ],
   "source": [
    "pdb_dataset.shape"
   ]
  },
  {
   "cell_type": "code",
   "execution_count": 9,
   "metadata": {},
   "outputs": [
    {
     "data": {
      "text/html": [
       "<div>\n",
       "<style scoped>\n",
       "    .dataframe tbody tr th:only-of-type {\n",
       "        vertical-align: middle;\n",
       "    }\n",
       "\n",
       "    .dataframe tbody tr th {\n",
       "        vertical-align: top;\n",
       "    }\n",
       "\n",
       "    .dataframe thead th {\n",
       "        text-align: right;\n",
       "    }\n",
       "</style>\n",
       "<table border=\"1\" class=\"dataframe\">\n",
       "  <thead>\n",
       "    <tr style=\"text-align: right;\">\n",
       "      <th></th>\n",
       "      <th>pdb</th>\n",
       "      <th>sp_primary</th>\n",
       "      <th>chain</th>\n",
       "    </tr>\n",
       "  </thead>\n",
       "  <tbody>\n",
       "    <tr>\n",
       "      <th>185</th>\n",
       "      <td>1a07</td>\n",
       "      <td>P12931</td>\n",
       "      <td>A</td>\n",
       "    </tr>\n",
       "    <tr>\n",
       "      <th>186</th>\n",
       "      <td>1a07</td>\n",
       "      <td>P12931</td>\n",
       "      <td>B</td>\n",
       "    </tr>\n",
       "    <tr>\n",
       "      <th>187</th>\n",
       "      <td>1a08</td>\n",
       "      <td>P12931</td>\n",
       "      <td>A</td>\n",
       "    </tr>\n",
       "    <tr>\n",
       "      <th>188</th>\n",
       "      <td>1a08</td>\n",
       "      <td>P12931</td>\n",
       "      <td>B</td>\n",
       "    </tr>\n",
       "    <tr>\n",
       "      <th>189</th>\n",
       "      <td>1a09</td>\n",
       "      <td>P12931</td>\n",
       "      <td>A</td>\n",
       "    </tr>\n",
       "  </tbody>\n",
       "</table>\n",
       "</div>"
      ],
      "text/plain": [
       "      pdb sp_primary chain\n",
       "185  1a07     P12931     A\n",
       "186  1a07     P12931     B\n",
       "187  1a08     P12931     A\n",
       "188  1a08     P12931     B\n",
       "189  1a09     P12931     A"
      ]
     },
     "execution_count": 9,
     "metadata": {},
     "output_type": "execute_result"
    }
   ],
   "source": [
    "# Create final version of the PDB dataset: original proteins in PDB + human proteins with same chain as the originals\n",
    "frames = [pdb_dataset, pdb_rel[(pdb_rel.pdb.isin(pdb_dataset.pdb)) & ~(pdb_rel.sp_primary.isin(pdb_dataset.sp_primary))\n",
    "                               & (pdb_rel.sp_primary.isin(list_human))]]\n",
    "pdb_dataset = pd.concat(frames, sort = False)[['pdb','sp_primary','chain']]\n",
    "pdb_dataset.head()"
   ]
  },
  {
   "cell_type": "code",
   "execution_count": 10,
   "metadata": {},
   "outputs": [
    {
     "data": {
      "text/plain": [
       "(1443, 3)"
      ]
     },
     "execution_count": 10,
     "metadata": {},
     "output_type": "execute_result"
    }
   ],
   "source": [
    "pdb_dataset.shape"
   ]
  },
  {
   "cell_type": "code",
   "execution_count": 11,
   "metadata": {},
   "outputs": [],
   "source": [
    "pdb_dataset.to_csv('../datasets/pdb.cvs')"
   ]
  }
 ],
 "metadata": {
  "kernelspec": {
   "display_name": "Python 3",
   "language": "python",
   "name": "python3"
  },
  "language_info": {
   "codemirror_mode": {
    "name": "ipython",
    "version": 3
   },
   "file_extension": ".py",
   "mimetype": "text/x-python",
   "name": "python",
   "nbconvert_exporter": "python",
   "pygments_lexer": "ipython3",
   "version": "3.7.3"
  }
 },
 "nbformat": 4,
 "nbformat_minor": 2
}
