{
 "cells": [
  {
   "cell_type": "markdown",
   "metadata": {},
   "source": [
    "# Create models and search against human proteins in Swissprot"
   ]
  },
  {
   "cell_type": "markdown",
   "metadata": {},
   "source": [
    "## PSI-BLAST"
   ]
  },
  {
   "cell_type": "markdown",
   "metadata": {},
   "source": [
    "Create PSSM"
   ]
  },
  {
   "cell_type": "code",
   "execution_count": 6,
   "metadata": {},
   "outputs": [
    {
     "name": "stderr",
     "output_type": "stream",
     "text": [
      "Warning: [psiblast] 1: Composition-based score adjustment conditioned on sequence properties and unconditional composition-based score adjustment is not supported with PSSMs, resetting to default value of standard composition-based statistics \n"
     ]
    }
   ],
   "source": [
    "%%bash\n",
    "rm ../models/profile.pssm\n",
    "psiblast -subject ../data/BLAST_uniref90.fasta \\\n",
    "         -in_msa ../data/PF00017_seed.fasta \\\n",
    "         -out_pssm ../models/profile.pssm > /dev/null"
   ]
  },
  {
   "cell_type": "markdown",
   "metadata": {},
   "source": [
    "Search usign this model"
   ]
  },
  {
   "cell_type": "code",
   "execution_count": 7,
   "metadata": {
    "scrolled": true
   },
   "outputs": [
    {
     "name": "stderr",
     "output_type": "stream",
     "text": [
      "Warning: [psiblast] 1: Composition-based score adjustment conditioned on sequence properties and unconditional composition-based score adjustment is not supported with PSSMs, resetting to default value of standard composition-based statistics \n"
     ]
    }
   ],
   "source": [
    "%%bash\n",
    "rm ../results/psiblast_search.txt\n",
    "psiblast -in_pssm ../models/profile.pssm -db ../data/SwissProt_humans_reference_all.fasta \\\n",
    "         -outfmt 6 -num_iterations 3 -evalue 0.001 > ../results/psiblast_search.txt"
   ]
  },
  {
   "cell_type": "markdown",
   "metadata": {},
   "source": [
    "Read sequences and SH2 domain positions found by psi-blast"
   ]
  },
  {
   "cell_type": "code",
   "execution_count": 10,
   "metadata": {},
   "outputs": [
    {
     "name": "stdout",
     "output_type": "stream",
     "text": [
      "98 sequences found with psi-blast\n"
     ]
    }
   ],
   "source": [
    "psiblast_sh2_positions = {}\n",
    "with open(\"../results/psiblast_search.txt\", 'r') as f:\n",
    "    for line in f:\n",
    "        if len(line)>1:\n",
    "            qseqid, sseqid, pident, length, mismatch, gapopen, \\\n",
    "            qstart, qend, sstart, send, evalue, bitscore = line.strip().split()\n",
    "            if sseqid not in psiblast_sh2_positions:\n",
    "                psiblast_sh2_positions[sseqid] = [{'start':int(sstart), 'end':int(send)}]\n",
    "            else:\n",
    "                pos = {'start':int(sstart), 'end':int(send)}\n",
    "                # check if the position has alredy been inserted\n",
    "                # otherwise insert it in the dictionary\n",
    "                if pos in psiblast_sh2_positions[sseqid]:\n",
    "                    # position already inserted\n",
    "                    continue\n",
    "                else:\n",
    "                    psiblast_sh2_positions[sseqid].append(pos)\n",
    "        else:\n",
    "            break\n",
    "            \n",
    "print(\"{} sequences found with psi-blast\".format(len(psiblast_sh2_positions.keys())))"
   ]
  },
  {
   "cell_type": "code",
   "execution_count": 12,
   "metadata": {},
   "outputs": [
    {
     "data": {
      "text/plain": [
       "[{'start': 532, 'end': 617}, {'start': 646, 'end': 720}]"
      ]
     },
     "execution_count": 12,
     "metadata": {},
     "output_type": "execute_result"
    }
   ],
   "source": [
    "psiblast_sh2_positions['P16885']"
   ]
  },
  {
   "cell_type": "markdown",
   "metadata": {},
   "source": [
    "## HMM"
   ]
  },
  {
   "cell_type": "markdown",
   "metadata": {},
   "source": [
    "Build HMM model"
   ]
  },
  {
   "cell_type": "code",
   "execution_count": 13,
   "metadata": {},
   "outputs": [
    {
     "name": "stdout",
     "output_type": "stream",
     "text": [
      "# hmmbuild :: profile HMM construction from multiple sequence alignments\n",
      "# HMMER 3.2.1 (June 2018); http://hmmer.org/\n",
      "# Copyright (C) 2018 Howard Hughes Medical Institute.\n",
      "# Freely distributed under the BSD open source license.\n",
      "# - - - - - - - - - - - - - - - - - - - - - - - - - - - - - - - - - - - -\n",
      "# input alignment file:             ../data/PF00017_seed.fasta\n",
      "# output HMM file:                  ../models/hmm_model.hmm\n",
      "# - - - - - - - - - - - - - - - - - - - - - - - - - - - - - - - - - - - -\n",
      "\n",
      "# idx name                  nseq  alen  mlen eff_nseq re/pos description\n",
      "#---- -------------------- ----- ----- ----- -------- ------ -----------\n",
      "1     PF00017_seed            52   106    77     3.69  0.734 \n",
      "\n",
      "# CPU time: 0.05u 0.00s 00:00:00.05 Elapsed: 00:00:00.06\n"
     ]
    }
   ],
   "source": [
    "%%bash\n",
    "hmmbuild ../models/hmm_model.hmm  ../data/PF00017_seed.fasta"
   ]
  },
  {
   "cell_type": "markdown",
   "metadata": {},
   "source": [
    "Search using this model"
   ]
  },
  {
   "cell_type": "code",
   "execution_count": 14,
   "metadata": {},
   "outputs": [],
   "source": [
    "%%bash\n",
    "hmmsearch --domtblout ../results/hmmsearch.hmmer_domtblout \\\n",
    "          ../models/hmm_model.hmm \\\n",
    "          ../data/SwissProt_humans_reference_all.fasta > ../results/hmmsearch_results.hmmer_align"
   ]
  },
  {
   "cell_type": "markdown",
   "metadata": {},
   "source": [
    "Read sequences and SH2 domain positions found by HMMER"
   ]
  },
  {
   "cell_type": "code",
   "execution_count": 15,
   "metadata": {},
   "outputs": [],
   "source": [
    "hmm_sh2_positions = {}\n",
    "with open(\"../results/hmmsearch.hmmer_domtblout\") as f:\n",
    "    for line in f:\n",
    "        if line[0] != \"#\":\n",
    "            target, tacc, tlen, query, qacc, qlen, \\\n",
    "            fevalue, fscore, fbias, _, _, dcevalue, dievalue, dscore, dbias, _, _ , \\\n",
    "            alifrom, alito, evfrom, envto, accuracy, desc = line.strip().split()[:23]\n",
    "            tacc = target.split(\"|\")[1]\n",
    "\n",
    "            if tacc not in hmm_sh2_positions:\n",
    "                hmm_sh2_positions[tacc] = [{'start':int(alifrom), 'end':int(alito)}]\n",
    "            else:\n",
    "                pos = {'start':int(alifrom), 'end':int(alito)}\n",
    "                # check if the position has alredy been inserted\n",
    "                # otherwise insert it in the dictionary\n",
    "                if pos in hmm_sh2_positions[tacc]:\n",
    "                    continue\n",
    "                else:\n",
    "                    hmm_sh2_positions[tacc].append(pos)"
   ]
  },
  {
   "cell_type": "code",
   "execution_count": 16,
   "metadata": {
    "scrolled": true
   },
   "outputs": [
    {
     "name": "stdout",
     "output_type": "stream",
     "text": [
      "109 sequences found with psi-blast\n"
     ]
    }
   ],
   "source": [
    "print(\"{} sequences found with psi-blast\".format(len(hmm_sh2_positions.keys())))"
   ]
  },
  {
   "cell_type": "code",
   "execution_count": 18,
   "metadata": {},
   "outputs": [
    {
     "data": {
      "text/plain": [
       "[{'start': 532, 'end': 617}, {'start': 646, 'end': 720}]"
      ]
     },
     "execution_count": 18,
     "metadata": {},
     "output_type": "execute_result"
    }
   ],
   "source": [
    "hmm_sh2_positions['P16885']"
   ]
  },
  {
   "cell_type": "markdown",
   "metadata": {},
   "source": [
    "# Evaluate Models"
   ]
  },
  {
   "cell_type": "code",
   "execution_count": 32,
   "metadata": {},
   "outputs": [],
   "source": [
    "from Bio import SeqIO\n",
    "import math\n",
    "import json"
   ]
  },
  {
   "cell_type": "markdown",
   "metadata": {},
   "source": [
    "### Read reference sequences containing SH2 domain (pf00017)\n",
    "\n",
    "Downloaded from UniProt with the query \n",
    "\n",
    "`database:(type:pfam pf00017) AND reviewed:yes AND organism:\"Homo sapiens (Human) [9606]`"
   ]
  },
  {
   "cell_type": "code",
   "execution_count": 2,
   "metadata": {},
   "outputs": [
    {
     "name": "stdout",
     "output_type": "stream",
     "text": [
      "There are 100 human proteins containing SH2 domain in SwissProt\n"
     ]
    }
   ],
   "source": [
    "human_sh2 = SeqIO.parse('../data/SwissProt_humans_reference.fasta','fasta')\n",
    "\n",
    "list_human_sh2 = []\n",
    "for sequence in human_sh2:\n",
    "    name = sequence.id # name is in the form sp|P46108|CRK_HUMAN\n",
    "    list_human_sh2.append(name.split('|')[1])\n",
    "\n",
    "set_human_sh2 = set(list_human_sh2)\n",
    "print(\"There are {} human proteins containing SH2 domain in SwissProt\".format(len(list_human_sh2)))"
   ]
  },
  {
   "cell_type": "markdown",
   "metadata": {},
   "source": [
    "### Check all human sequences in SwissProt\n",
    "\n",
    "Downloaded from UniProt with the query\n",
    "\n",
    "`reviewed:yes AND organism:\"Homo sapiens (Human) [9606]`"
   ]
  },
  {
   "cell_type": "code",
   "execution_count": 4,
   "metadata": {},
   "outputs": [
    {
     "name": "stdout",
     "output_type": "stream",
     "text": [
      "There are 20367 human proteins containing SH2 domain in SwissProt\n"
     ]
    }
   ],
   "source": [
    "human = SeqIO.parse('../data/SwissProt_humans_reference_all.fasta', 'fasta')\n",
    "\n",
    "list_human = []\n",
    "for sequence in human:\n",
    "    name = sequence.id # name is in the form sp|P46108|CRK_HUMAN\n",
    "    list_human.append(name.split('|')[1])\n",
    "\n",
    "print(\"There are {} human proteins in SwissProt\".format(len(list_human)))"
   ]
  },
  {
   "cell_type": "markdown",
   "metadata": {},
   "source": [
    "Sanity check: all proteins containing SH2 domain should be in this dataset "
   ]
  },
  {
   "cell_type": "code",
   "execution_count": 5,
   "metadata": {},
   "outputs": [],
   "source": [
    "assert len(set(list_human).intersection(set_human_sh2)) == len(list_human_sh2)"
   ]
  },
  {
   "cell_type": "markdown",
   "metadata": {},
   "source": [
    "### Read reference for position\n",
    "\n",
    "This file can be downloaded from InterPro:\n",
    "\n",
    "http://www.ebi.ac.uk/interpro/entry/pfam/PF00017/protein/reviewed/?search=Human%20#table\n",
    "\n",
    "In the dictionary we will save also sequence length. This will be used to compute metrics later."
   ]
  },
  {
   "cell_type": "code",
   "execution_count": 49,
   "metadata": {},
   "outputs": [],
   "source": [
    "with open(\"../data/interpo-PF00017.json\", \"r\") as file:\n",
    "    interpro_data = json.load(file)\n",
    "    \n",
    "reference_sh2_positions = {}\n",
    "for el in interpro_data:\n",
    "    name = el['metadata']['accession']\n",
    "    length = el['metadata']['length']\n",
    "    if name in reference_sh2_positions:\n",
    "        print(\"{} already in reference dict!\".format(name))\n",
    "        continue\n",
    "    else:\n",
    "        reference_sh2_positions[name] = {'length':length, 'positions':[]}\n",
    "    entries = el['entries']\n",
    "    for entry in entries:\n",
    "        if entry['accession']=='PF00017':\n",
    "            domain_locations = entry['entry_protein_locations']\n",
    "            for location in domain_locations:\n",
    "                if len(location['fragments'])>1:\n",
    "                    print(\"len fragments > 1\")\n",
    "                position_dict = {\n",
    "                    'start': location['fragments'][0]['start'],\n",
    "                    'end': location['fragments'][0]['end']\n",
    "                }\n",
    "                reference_sh2_positions[name]['positions'].append(position_dict)"
   ]
  },
  {
   "cell_type": "code",
   "execution_count": 50,
   "metadata": {},
   "outputs": [
    {
     "data": {
      "text/plain": [
       "{'length': 1265,\n",
       " 'positions': [{'start': 532, 'end': 617}, {'start': 646, 'end': 720}]}"
      ]
     },
     "execution_count": 50,
     "metadata": {},
     "output_type": "execute_result"
    }
   ],
   "source": [
    "reference_sh2_positions['P16885']"
   ]
  },
  {
   "cell_type": "markdown",
   "metadata": {},
   "source": [
    "## Evaluate ability of retrieving proteins with SH2 domain"
   ]
  },
  {
   "cell_type": "code",
   "execution_count": 19,
   "metadata": {},
   "outputs": [],
   "source": [
    "def computeMetrics(true_positive, true_negative, false_positive, false_negative):\n",
    "    \n",
    "    accuracy = (true_positive + true_negative) / (true_positive + true_negative + false_negative + false_positive)\n",
    "    precision = true_positive / (true_positive + false_positive)\n",
    "    sensitivity = true_positive / (true_positive + false_negative)\n",
    "    specificity = true_negative / (true_negative + false_positive)\n",
    "    f1 = 2 * (precision * sensitivity) / (precision + sensitivity)\n",
    "    mcc = (true_positive*true_negative - false_positive*false_negative) / (math.sqrt(\n",
    "        (true_positive + false_positive) * (true_positive + false_negative) * \n",
    "        (true_negative + false_positive) * (true_negative + false_negative)\n",
    "    ))\n",
    "    \n",
    "    print(\"Accuracy: {:.2f}\".format(accuracy))\n",
    "    print(\"Precision: {:.2f}\".format(precision))\n",
    "    print(\"Sensitivity: {:.2f}\".format(sensitivity))\n",
    "    print(\"Specificity: {:.2f}\".format(specificity))\n",
    "    print(\"F1 score: {:.2f}\".format(f1))\n",
    "    print(\"MCC: {:.2f}\".format(mcc)) "
   ]
  },
  {
   "cell_type": "code",
   "execution_count": 21,
   "metadata": {},
   "outputs": [],
   "source": [
    "def evaluateSequencesSH2(retrieved_sequences, ground_truth):\n",
    "    \"\"\"\n",
    "    retrieved_sequences = dict of the type {'P16885':[{'start': 532, 'end': 617}], ...}\n",
    "    ground_truth = set of human sequences containing SH2 (set_human_sh2 in this notebook)\n",
    "    \"\"\"\n",
    "    retrieved_sequences = set(retrieved_sequences.keys())\n",
    "    \n",
    "    true_positive = len(set(retrieved_sequences).intersection(ground_truth))\n",
    "    # If there aren't true postive later there will be a division by 0\n",
    "    if true_positive == 0:\n",
    "        print(\"No true positive!\")\n",
    "        return\n",
    "    \n",
    "    false_negative = len(ground_truth) - true_positive\n",
    "    false_positive = len(set(retrieved_sequences)) - true_positive\n",
    "    true_negative = len(list_human) - true_positive - false_positive - false_negative\n",
    "    \n",
    "    computeMetrics(\n",
    "        true_positive,\n",
    "        true_negative,\n",
    "        false_positive,\n",
    "        false_negative\n",
    "    )"
   ]
  },
  {
   "cell_type": "code",
   "execution_count": 27,
   "metadata": {},
   "outputs": [
    {
     "name": "stdout",
     "output_type": "stream",
     "text": [
      "Accuracy: 1.00\n",
      "Precision: 1.00\n",
      "Sensitivity: 0.98\n",
      "Specificity: 1.00\n",
      "F1 score: 0.99\n",
      "MCC: 0.99\n"
     ]
    }
   ],
   "source": [
    "# Evaluate PSI-BLAST\n",
    "evaluateSequencesSH2(psiblast_sh2_positions, set_human_sh2)"
   ]
  },
  {
   "cell_type": "code",
   "execution_count": 31,
   "metadata": {},
   "outputs": [
    {
     "name": "stdout",
     "output_type": "stream",
     "text": [
      "Accuracy: 1.00\n",
      "Precision: 0.92\n",
      "Sensitivity: 1.00\n",
      "Specificity: 1.00\n",
      "F1 score: 0.96\n",
      "MCC: 0.96\n"
     ]
    }
   ],
   "source": [
    "# Evaluate HMM\n",
    "evaluateSequencesSH2(hmm_sh2_positions, set_human_sh2)"
   ]
  },
  {
   "cell_type": "markdown",
   "metadata": {},
   "source": [
    "## Evaluate ability of matching domains"
   ]
  },
  {
   "cell_type": "code",
   "execution_count": 39,
   "metadata": {},
   "outputs": [],
   "source": [
    "#                                        SH2                                SH2\n",
    "#reference (truth):              |||||||||||||||||||||             |||||||||||||||||||||||||\n",
    "#model (predicted):    /////    |||||||||||||||||||||||        ||||||||||||||||"
   ]
  },
  {
   "cell_type": "code",
   "execution_count": 40,
   "metadata": {},
   "outputs": [],
   "source": [
    "def createPositionSet(positions_list):\n",
    "    \"\"\"\n",
    "    position_list = [{'start': '532', 'end': '617'}, {'start': '646', 'end': '720'}]\n",
    "    return a list {532, 533, ...., 617, 646, ..., 720}\n",
    "    \"\"\"\n",
    "    positions = set()\n",
    "    for pos in positions_list:\n",
    "        p = [i for i in range(pos['start'], pos['end']+1)]\n",
    "        positions = positions.union(p)\n",
    "    return positions"
   ]
  },
  {
   "cell_type": "code",
   "execution_count": 56,
   "metadata": {},
   "outputs": [],
   "source": [
    "def evaluatePositionsSH2(predicted_positions_sh2, reference_positions_sh2):\n",
    "    \"\"\"\n",
    "    predicted_positions_sh2: dict of the type {'P16885':[{'start': 532, 'end': 617}], ...}\n",
    "    reference_positions_sh2 {'P16885':{'length': 1265, 'positions': [{'start': 532, 'end': 617}]}, ...}\n",
    "    \"\"\"\n",
    "    list_tp = []\n",
    "    list_fp = []\n",
    "    list_fn = []\n",
    "    list_tn = []\n",
    "\n",
    "    for seqid in predicted_positions_sh2:\n",
    "\n",
    "        if seqid in reference_positions_sh2:\n",
    "            sequence_length = reference_positions_sh2[seqid]['length']\n",
    "            reference_positions = createPositionSet(reference_positions_sh2[seqid]['positions'])\n",
    "            identified_positions = createPositionSet(predicted_positions_sh2[seqid])    \n",
    "\n",
    "            overlap  = reference_positions.intersection(identified_positions)\n",
    "\n",
    "            true_positive = len(overlap)\n",
    "            false_positive = len(identified_positions.difference(overlap))\n",
    "            false_negative = len(reference_positions.difference(overlap))\n",
    "            true_negative  = sequence_length - true_positive - false_positive - false_negative\n",
    "\n",
    "            list_tp.append(true_positive)\n",
    "            list_fp.append(false_positive)\n",
    "            list_fn.append(false_negative)\n",
    "            list_tn.append(true_negative)\n",
    "\n",
    "        #else:\n",
    "        #    print(\"Error! sequence not found in the reference dataset -- False positive\")   \n",
    "        #    break\n",
    "            \n",
    "    computeMetrics(\n",
    "        true_positive=sum(list_tp),\n",
    "        true_negative=sum(list_tn),\n",
    "        false_positive=sum(list_fp),\n",
    "        false_negative=sum(list_fn)\n",
    "    )"
   ]
  },
  {
   "cell_type": "code",
   "execution_count": 54,
   "metadata": {},
   "outputs": [
    {
     "name": "stdout",
     "output_type": "stream",
     "text": [
      "Accuracy: 1.00\n",
      "Precision: 0.98\n",
      "Sensitivity: 1.00\n",
      "Specificity: 1.00\n",
      "F1 score: 0.99\n",
      "MCC: 0.99\n"
     ]
    }
   ],
   "source": [
    "# evaluate psiblast\n",
    "evaluatePositionsSH2(psiblast_sh2_positions, reference_sh2_positions)"
   ]
  },
  {
   "cell_type": "code",
   "execution_count": 58,
   "metadata": {},
   "outputs": [
    {
     "name": "stdout",
     "output_type": "stream",
     "text": [
      "Accuracy: 1.00\n",
      "Precision: 0.99\n",
      "Sensitivity: 1.00\n",
      "Specificity: 1.00\n",
      "F1 score: 1.00\n",
      "MCC: 0.99\n"
     ]
    }
   ],
   "source": [
    "# evaluate hmm\n",
    "evaluatePositionsSH2(hmm_sh2_positions, reference_sh2_positions)"
   ]
  }
 ],
 "metadata": {
  "kernelspec": {
   "display_name": "Python 3",
   "language": "python",
   "name": "python3"
  },
  "language_info": {
   "codemirror_mode": {
    "name": "ipython",
    "version": 3
   },
   "file_extension": ".py",
   "mimetype": "text/x-python",
   "name": "python",
   "nbconvert_exporter": "python",
   "pygments_lexer": "ipython3",
   "version": "3.7.4"
  }
 },
 "nbformat": 4,
 "nbformat_minor": 2
}
