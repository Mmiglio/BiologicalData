{
 "cells": [
  {
   "cell_type": "markdown",
   "metadata": {},
   "source": [
    "# Create models and search against human proteins in Swissprot"
   ]
  },
  {
   "cell_type": "markdown",
   "metadata": {},
   "source": [
    "## PSI-BLAST"
   ]
  },
  {
   "cell_type": "markdown",
   "metadata": {},
   "source": [
    "Create PSSM"
   ]
  },
  {
   "cell_type": "code",
   "execution_count": 1,
   "metadata": {},
   "outputs": [
    {
     "name": "stderr",
     "output_type": "stream",
     "text": [
      "Warning: [psiblast] 1: Composition-based score adjustment conditioned on sequence properties and unconditional composition-based score adjustment is not supported with PSSMs, resetting to default value of standard composition-based statistics \n"
     ]
    }
   ],
   "source": [
    "%%bash\n",
    "psiblast -subject ../../data/BLAST_uniref90.fasta \\\n",
    "         -in_msa ../../data/msa_edited.fasta \\\n",
    "         -out_pssm ../../models/profile.pssm > /dev/null"
   ]
  },
  {
   "cell_type": "markdown",
   "metadata": {},
   "source": [
    "Search usign this model"
   ]
  },
  {
   "cell_type": "code",
   "execution_count": 2,
   "metadata": {
    "scrolled": true
   },
   "outputs": [
    {
     "name": "stderr",
     "output_type": "stream",
     "text": [
      "Warning: [psiblast] 1: Composition-based score adjustment conditioned on sequence properties and unconditional composition-based score adjustment is not supported with PSSMs, resetting to default value of standard composition-based statistics \n"
     ]
    }
   ],
   "source": [
    "%%bash\n",
    "rm ../../results/psiblast_search.txt\n",
    "psiblast -in_pssm ../../models/profile.pssm -db ../../data/SwissProt_humans_reference_all.fasta \\\n",
    "         -outfmt 6 -num_iterations 4 -evalue 0.01 > ../../results/psiblast_search.txt"
   ]
  },
  {
   "cell_type": "markdown",
   "metadata": {},
   "source": [
    "Read sequences and SH2 domain positions found by psi-blast"
   ]
  },
  {
   "cell_type": "code",
   "execution_count": 3,
   "metadata": {},
   "outputs": [
    {
     "name": "stdout",
     "output_type": "stream",
     "text": [
      "92 sequences found with psi-blast\n"
     ]
    },
    {
     "data": {
      "text/plain": [
       "[{'start': 532, 'end': 623}, {'start': 645, 'end': 725}]"
      ]
     },
     "execution_count": 3,
     "metadata": {},
     "output_type": "execute_result"
    }
   ],
   "source": [
    "from parsers import parsePsiBlastOutput\n",
    "\n",
    "psiblast_sh2_positions = parsePsiBlastOutput(\"../../results/psiblast_search.txt\")\n",
    "psiblast_sh2_positions['P16885']"
   ]
  },
  {
   "cell_type": "markdown",
   "metadata": {},
   "source": [
    "## HMM"
   ]
  },
  {
   "cell_type": "markdown",
   "metadata": {},
   "source": [
    "Build HMM model"
   ]
  },
  {
   "cell_type": "code",
   "execution_count": 4,
   "metadata": {},
   "outputs": [
    {
     "name": "stdout",
     "output_type": "stream",
     "text": [
      "# hmmbuild :: profile HMM construction from multiple sequence alignments\n",
      "# HMMER 3.2.1 (June 2018); http://hmmer.org/\n",
      "# Copyright (C) 2018 Howard Hughes Medical Institute.\n",
      "# Freely distributed under the BSD open source license.\n",
      "# - - - - - - - - - - - - - - - - - - - - - - - - - - - - - - - - - - - -\n",
      "# input alignment file:             ../../data/msa_edited.fasta\n",
      "# output HMM file:                  ../../models/hmm_model.hmm\n",
      "# - - - - - - - - - - - - - - - - - - - - - - - - - - - - - - - - - - - -\n",
      "\n",
      "# idx name                  nseq  alen  mlen eff_nseq re/pos description\n",
      "#---- -------------------- ----- ----- ----- -------- ------ -----------\n",
      "1     msa_edited             246    99    99     0.87  0.590 \n",
      "\n",
      "# CPU time: 0.08u 0.00s 00:00:00.08 Elapsed: 00:00:00.10\n"
     ]
    }
   ],
   "source": [
    "%%bash\n",
    "hmmbuild ../../models/hmm_model.hmm  ../../data/msa_edited.fasta"
   ]
  },
  {
   "cell_type": "markdown",
   "metadata": {},
   "source": [
    "Search using this model"
   ]
  },
  {
   "cell_type": "code",
   "execution_count": 5,
   "metadata": {},
   "outputs": [],
   "source": [
    "%%bash\n",
    "hmmsearch --domtblout ../../results/hmmsearch.hmmer_domtblout \\\n",
    "          ../../models/hmm_model.hmm \\\n",
    "          ../../data/SwissProt_humans_reference_all.fasta > ../../results/hmmsearch_results.hmmer_align"
   ]
  },
  {
   "cell_type": "markdown",
   "metadata": {},
   "source": [
    "Read sequences and SH2 domain positions found by HMMER"
   ]
  },
  {
   "cell_type": "code",
   "execution_count": 6,
   "metadata": {},
   "outputs": [
    {
     "name": "stdout",
     "output_type": "stream",
     "text": [
      "15 sequences found with hmm-search\n"
     ]
    }
   ],
   "source": [
    "from parsers import parseHmmerOutput\n",
    "\n",
    "hmm_sh2_positions = parseHmmerOutput(\"../../results/hmmsearch.hmmer_domtblout\")"
   ]
  },
  {
   "cell_type": "code",
   "execution_count": 7,
   "metadata": {},
   "outputs": [],
   "source": [
    "# not found!\n",
    "# hmm_sh2_positions['P16885']"
   ]
  },
  {
   "cell_type": "markdown",
   "metadata": {},
   "source": [
    "# Jack the hammer"
   ]
  },
  {
   "cell_type": "code",
   "execution_count": 8,
   "metadata": {},
   "outputs": [],
   "source": [
    "%%bash\n",
    "jackhmmer --domtblout ../../results/jackhmmsearch.hmmer_domtblout -N 4 --incE 0.01 \\\n",
    "          ../../data/sequenceP23615.fasta \\\n",
    "          ../../data/SwissProt_humans_reference_all.fasta \\\n",
    "          > ../../results/jackhmmsearch_results.hmmer_align"
   ]
  },
  {
   "cell_type": "code",
   "execution_count": 9,
   "metadata": {},
   "outputs": [
    {
     "name": "stdout",
     "output_type": "stream",
     "text": [
      "109 sequences found with hmm-search\n"
     ]
    }
   ],
   "source": [
    "jackhmm_sh2_positions = parseHmmerOutput(\"../../results/jackhmmsearch.hmmer_domtblout\")"
   ]
  },
  {
   "cell_type": "code",
   "execution_count": 10,
   "metadata": {},
   "outputs": [
    {
     "data": {
      "text/plain": [
       "[{'start': 540, 'end': 617}, {'start': 647, 'end': 720}]"
      ]
     },
     "execution_count": 10,
     "metadata": {},
     "output_type": "execute_result"
    }
   ],
   "source": [
    "jackhmm_sh2_positions['P16885']"
   ]
  },
  {
   "cell_type": "markdown",
   "metadata": {},
   "source": [
    "# Evaluate Models"
   ]
  },
  {
   "cell_type": "code",
   "execution_count": 11,
   "metadata": {},
   "outputs": [],
   "source": [
    "from Bio import SeqIO\n",
    "import math\n",
    "import json"
   ]
  },
  {
   "cell_type": "markdown",
   "metadata": {},
   "source": [
    "### Read reference sequences containing SH2 domain (pf00017)\n",
    "\n",
    "Downloaded from UniProt with the query \n",
    "\n",
    "`database:(type:pfam pf00017) AND reviewed:yes AND organism:\"Homo sapiens (Human) [9606]`"
   ]
  },
  {
   "cell_type": "code",
   "execution_count": 12,
   "metadata": {},
   "outputs": [
    {
     "name": "stdout",
     "output_type": "stream",
     "text": [
      "There are 100 human proteins containing SH2 domain in SwissProt\n"
     ]
    }
   ],
   "source": [
    "human_sh2 = SeqIO.parse('../../data/SwissProt_humans_reference.fasta','fasta')\n",
    "\n",
    "list_human_sh2 = []\n",
    "for sequence in human_sh2:\n",
    "    name = sequence.id # name is in the form sp|P46108|CRK_HUMAN\n",
    "    list_human_sh2.append(name.split('|')[1])\n",
    "\n",
    "set_human_sh2 = set(list_human_sh2)\n",
    "print(\"There are {} human proteins containing SH2 domain in SwissProt\".format(len(list_human_sh2)))"
   ]
  },
  {
   "cell_type": "markdown",
   "metadata": {},
   "source": [
    "### Check all human sequences in SwissProt\n",
    "\n",
    "Downloaded from UniProt with the query\n",
    "\n",
    "`reviewed:yes AND organism:\"Homo sapiens (Human) [9606]`"
   ]
  },
  {
   "cell_type": "code",
   "execution_count": 13,
   "metadata": {},
   "outputs": [
    {
     "name": "stdout",
     "output_type": "stream",
     "text": [
      "There are 20367 human proteins in SwissProt\n"
     ]
    }
   ],
   "source": [
    "human = SeqIO.parse('../../data/SwissProt_humans_reference_all.fasta', 'fasta')\n",
    "\n",
    "list_human = []\n",
    "for sequence in human:\n",
    "    name = sequence.id # name is in the form sp|P46108|CRK_HUMAN\n",
    "    list_human.append(name.split('|')[1])\n",
    "\n",
    "num_humans = len(list_human)\n",
    "print(\"There are {} human proteins in SwissProt\".format(num_humans))"
   ]
  },
  {
   "cell_type": "markdown",
   "metadata": {},
   "source": [
    "Sanity check: all proteins containing SH2 domain should be in this dataset "
   ]
  },
  {
   "cell_type": "code",
   "execution_count": 14,
   "metadata": {},
   "outputs": [],
   "source": [
    "assert len(set(list_human).intersection(set_human_sh2)) == len(list_human_sh2)"
   ]
  },
  {
   "cell_type": "markdown",
   "metadata": {},
   "source": [
    "### Read reference for position\n",
    "\n",
    "This file can be downloaded from InterPro:\n",
    "\n",
    "http://www.ebi.ac.uk/interpro/entry/pfam/PF00017/protein/reviewed/?search=Human%20#table\n",
    "\n",
    "In the dictionary we will save also sequence length. This will be used to compute metrics later."
   ]
  },
  {
   "cell_type": "code",
   "execution_count": 15,
   "metadata": {},
   "outputs": [],
   "source": [
    "with open(\"../../data/interpo-PF00017.json\", \"r\") as file:\n",
    "    interpro_data = json.load(file)\n",
    "    \n",
    "reference_sh2_positions = {}\n",
    "for el in interpro_data:\n",
    "    name = el['metadata']['accession']\n",
    "    length = el['metadata']['length']\n",
    "    if name in reference_sh2_positions:\n",
    "        print(\"{} already in reference dict!\".format(name))\n",
    "        continue\n",
    "    else:\n",
    "        reference_sh2_positions[name] = {'length':length, 'positions':[]}\n",
    "    entries = el['entries']\n",
    "    for entry in entries:\n",
    "        if entry['accession']=='PF00017':\n",
    "            domain_locations = entry['entry_protein_locations']\n",
    "            for location in domain_locations:\n",
    "                if len(location['fragments'])>1:\n",
    "                    print(\"len fragments > 1\")\n",
    "                position_dict = {\n",
    "                    'start': location['fragments'][0]['start'],\n",
    "                    'end': location['fragments'][0]['end']\n",
    "                }\n",
    "                reference_sh2_positions[name]['positions'].append(position_dict)"
   ]
  },
  {
   "cell_type": "code",
   "execution_count": 16,
   "metadata": {},
   "outputs": [
    {
     "data": {
      "text/plain": [
       "{'length': 1265,\n",
       " 'positions': [{'start': 532, 'end': 617}, {'start': 646, 'end': 720}]}"
      ]
     },
     "execution_count": 16,
     "metadata": {},
     "output_type": "execute_result"
    }
   ],
   "source": [
    "reference_sh2_positions['P16885']"
   ]
  },
  {
   "cell_type": "markdown",
   "metadata": {},
   "source": [
    "## Evaluate ability of retrieving proteins with SH2 domain"
   ]
  },
  {
   "cell_type": "code",
   "execution_count": 17,
   "metadata": {},
   "outputs": [],
   "source": [
    "from utils import evaluateSequencesSH2"
   ]
  },
  {
   "cell_type": "code",
   "execution_count": 18,
   "metadata": {},
   "outputs": [
    {
     "name": "stdout",
     "output_type": "stream",
     "text": [
      "Evaluation of psiblast:\n",
      "\t*Accuracy: 1.00\n",
      "\t*Precision: 0.99\n",
      "\t*Sensitivity: 0.91\n",
      "\t*Specificity: 1.00\n",
      "\t*F1 score: 0.95\n",
      "\t*MCC: 0.95\n",
      "\n"
     ]
    }
   ],
   "source": [
    "# Evaluate PSI-BLAST\n",
    "print(\"Evaluation of psiblast:\")\n",
    "metrics_psiblast = evaluateSequencesSH2(\n",
    "    psiblast_sh2_positions, set_human_sh2, num_humans\n",
    ")"
   ]
  },
  {
   "cell_type": "code",
   "execution_count": 19,
   "metadata": {},
   "outputs": [
    {
     "name": "stdout",
     "output_type": "stream",
     "text": [
      "Evaluation of hmmer:\n",
      "\t*Accuracy: 1.00\n",
      "\t*Precision: 0.93\n",
      "\t*Sensitivity: 0.14\n",
      "\t*Specificity: 1.00\n",
      "\t*F1 score: 0.24\n",
      "\t*MCC: 0.36\n",
      "\n"
     ]
    }
   ],
   "source": [
    "# Evaluate HMM\n",
    "print(\"Evaluation of hmmer:\")\n",
    "metrics_hmmer = evaluateSequencesSH2(\n",
    "    hmm_sh2_positions, set_human_sh2, num_humans\n",
    ")"
   ]
  },
  {
   "cell_type": "code",
   "execution_count": 20,
   "metadata": {},
   "outputs": [
    {
     "name": "stdout",
     "output_type": "stream",
     "text": [
      "Evaluation od jackhmmer:\n",
      "\t*Accuracy: 1.00\n",
      "\t*Precision: 0.92\n",
      "\t*Sensitivity: 1.00\n",
      "\t*Specificity: 1.00\n",
      "\t*F1 score: 0.96\n",
      "\t*MCC: 0.96\n",
      "\n"
     ]
    }
   ],
   "source": [
    "# evaluate jackhmmer\n",
    "print(\"Evaluation od jackhmmer:\")\n",
    "metrics_jackhmmer = evaluateSequencesSH2(\n",
    "    jackhmm_sh2_positions, set_human_sh2, num_humans\n",
    ")"
   ]
  },
  {
   "cell_type": "code",
   "execution_count": 21,
   "metadata": {},
   "outputs": [],
   "source": [
    "import pandas as pd\n",
    "import numpy as np \n",
    "\n",
    "list_metrics = ['Precision', 'Sensitivity', 'Specificity', 'MCC']\n",
    "results_psiblast = [metrics_psiblast[metric] for metric in list_metrics]\n",
    "results_hmmer = [metrics_hmmer[metric] for metric in list_metrics]\n",
    "results_jackhmmer = [metrics_jackhmmer[metric] for metric in list_metrics]\n",
    "\n",
    "# create dataframe of results\n",
    "cols = np.c_[results_psiblast,results_hmmer,results_jackhmmer, list_metrics]\n",
    "res_df = pd.DataFrame(\n",
    "    cols,\n",
    "    columns=['psi-blast', 'hmmer', 'jackhmmer', 'metric']\n",
    ")\n",
    "sns_df = pd.melt(res_df, value_name='score', var_name='model',\n",
    "        value_vars=['psi-blast', 'hmmer', 'jackhmmer'], \n",
    "        id_vars=['metric']\n",
    "       )"
   ]
  },
  {
   "cell_type": "code",
   "execution_count": 22,
   "metadata": {},
   "outputs": [],
   "source": [
    "import matplotlib.pyplot as plt\n",
    "import seaborn as sns\n",
    "sns.set(style=\"whitegrid\")\n",
    "#sns.set_palette(\"muted\")\n",
    "plt.rcdefaults()"
   ]
  },
  {
   "cell_type": "code",
   "execution_count": 23,
   "metadata": {},
   "outputs": [
    {
     "data": {
      "image/png": "[encoded data removed]",
      "text/plain": [
       "<Figure size 576x360 with 1 Axes>"
      ]
     },
     "metadata": {
      "needs_background": "light"
     },
     "output_type": "display_data"
    }
   ],
   "source": [
    "fig = plt.figure(figsize=(8,5))\n",
    "sns.barplot(x=\"metric\", y=\"score\", hue=\"model\", data=sns_df)\n",
    "plt.legend(bbox_to_anchor=(0.5, 1.1), loc='upper center', ncol=3)\n",
    "plt.xlabel(\"\")\n",
    "plt.savefig(\"../../figures/SequenceEvaluation.pdf\")\n",
    "plt.tight_layout()\n",
    "plt.show()"
   ]
  },
  {
   "cell_type": "markdown",
   "metadata": {},
   "source": [
    "## Evaluate ability of matching domains"
   ]
  },
  {
   "cell_type": "code",
   "execution_count": 24,
   "metadata": {},
   "outputs": [],
   "source": [
    "#                                        SH2                                SH2\n",
    "#reference (truth):              |||||||||||||||||||||             |||||||||||||||||||||||||\n",
    "#model (predicted):    /////    |||||||||||||||||||||||        ||||||||||||||||"
   ]
  },
  {
   "cell_type": "code",
   "execution_count": 25,
   "metadata": {},
   "outputs": [],
   "source": [
    "from utils import evaluatePositionsSH2"
   ]
  },
  {
   "cell_type": "code",
   "execution_count": 26,
   "metadata": {},
   "outputs": [
    {
     "name": "stdout",
     "output_type": "stream",
     "text": [
      "\t*Accuracy: 0.98\n",
      "\t*Precision: 0.89\n",
      "\t*Sensitivity: 0.98\n",
      "\t*Specificity: 0.98\n",
      "\t*F1 score: 0.93\n",
      "\t*MCC: 0.92\n",
      "\n"
     ]
    }
   ],
   "source": [
    "# evaluate psiblast\n",
    "metrics_psiblast, score_sequence_psiblast = evaluatePositionsSH2(\n",
    "    psiblast_sh2_positions, reference_sh2_positions\n",
    ")"
   ]
  },
  {
   "cell_type": "code",
   "execution_count": 27,
   "metadata": {},
   "outputs": [
    {
     "name": "stdout",
     "output_type": "stream",
     "text": [
      "\t*Accuracy: 0.98\n",
      "\t*Precision: 0.91\n",
      "\t*Sensitivity: 0.94\n",
      "\t*Specificity: 0.98\n",
      "\t*F1 score: 0.92\n",
      "\t*MCC: 0.91\n",
      "\n"
     ]
    }
   ],
   "source": [
    "# evaluate jackhammer\n",
    "metrics_jackhmmer, score_sequence_jackhmmer = evaluatePositionsSH2(\n",
    "    jackhmm_sh2_positions, reference_sh2_positions\n",
    ")"
   ]
  },
  {
   "cell_type": "code",
   "execution_count": 28,
   "metadata": {},
   "outputs": [
    {
     "data": {
      "image/png": "[encoded data removed]",
      "text/plain": [
       "<Figure size 800x500 with 1 Axes>"
      ]
     },
     "metadata": {},
     "output_type": "display_data"
    }
   ],
   "source": [
    "## Global metrics\n",
    "\n",
    "list_metrics = ['Precision', 'Sensitivity', 'Specificity','MCC']\n",
    "results_psiblast = [metrics_psiblast[metric] for metric in list_metrics]\n",
    "results_jackhmmer = [metrics_jackhmmer[metric] for metric in list_metrics]\n",
    "\n",
    "# create dataframe of results\n",
    "cols = np.c_[results_psiblast,results_jackhmmer, list_metrics]\n",
    "res_df = pd.DataFrame(\n",
    "    cols,\n",
    "    columns=['psi-blast', 'jackhmmer', 'metric']\n",
    ")\n",
    "sns_df = pd.melt(res_df, value_name='score', var_name='model',\n",
    "        value_vars=['psi-blast', 'jackhmmer'], \n",
    "        id_vars=['metric']\n",
    "       )\n",
    "\n",
    "plt.rcdefaults()\n",
    "\n",
    "fig = plt.figure(figsize=(8,5))\n",
    "sns.barplot(x=\"metric\", y=\"score\", hue=\"model\", data=sns_df)\n",
    "plt.legend(bbox_to_anchor=(0.5, 1.1), loc='upper center', ncol=3)\n",
    "plt.xlabel(\"\")\n",
    "plt.savefig(\"../../figures/DomainEvaluation_global.pdf\")\n",
    "plt.tight_layout()\n",
    "plt.show()"
   ]
  },
  {
   "cell_type": "code",
   "execution_count": 29,
   "metadata": {},
   "outputs": [],
   "source": [
    "## per squence metrics\n",
    "\n",
    "models_results = [score_sequence_psiblast, score_sequence_jackhmmer]\n",
    "model_names = ['psi-blast', 'jackhmmer']\n",
    "\n",
    "df_results = pd.DataFrame(columns=['score', 'metric', 'model'])\n",
    "\n",
    "for name, results in zip(model_names, models_results):\n",
    "    \n",
    "    for metric in ['Precision', 'Sensitivity', 'Specificity','MCC']:\n",
    "        score  = [res_seq[metric] for res_seq in results]\n",
    "        df_tmp = pd.DataFrame({\n",
    "            \"score\": score,\n",
    "            \"metric\": [metric]*len(score),\n",
    "            \"model\": [name]*len(score)\n",
    "        })\n",
    "        \n",
    "        df_results = df_results.append(df_tmp, ignore_index=True)      "
   ]
  },
  {
   "cell_type": "code",
   "execution_count": 30,
   "metadata": {},
   "outputs": [
    {
     "data": {
      "image/png": "[encoded data removed]",
      "text/plain": [
       "<Figure size 800x500 with 1 Axes>"
      ]
     },
     "metadata": {},
     "output_type": "display_data"
    }
   ],
   "source": [
    "fig = plt.figure(figsize=(8,5))\n",
    "sns.barplot(x=\"metric\", y=\"score\", hue=\"model\", data=df_results)\n",
    "plt.legend(bbox_to_anchor=(0.5, 1.1), loc='upper center', ncol=3)\n",
    "plt.xlabel(\"\")\n",
    "plt.savefig(\"../../figures/DomainEvaluation_sequence.pdf\")\n",
    "plt.tight_layout()\n",
    "plt.show()"
   ]
  }
 ],
 "metadata": {
  "kernelspec": {
   "display_name": "Python 3",
   "language": "python",
   "name": "python3"
  },
  "language_info": {
   "codemirror_mode": {
    "name": "ipython",
    "version": 3
   },
   "file_extension": ".py",
   "mimetype": "text/x-python",
   "name": "python",
   "nbconvert_exporter": "python",
   "pygments_lexer": "ipython3",
   "version": "3.7.4"
  }
 },
 "nbformat": 4,
 "nbformat_minor": 2
}
