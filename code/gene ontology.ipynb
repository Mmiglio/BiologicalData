{
 "cells": [
  {
   "cell_type": "code",
   "execution_count": 82,
   "metadata": {},
   "outputs": [],
   "source": [
    "import json\n",
    "import gzip\n",
    "import copy\n",
    "\n",
    "\n",
    "from scipy.stats import fisher_exact\n",
    "import numpy as np\n",
    "import pandas as pd"
   ]
  },
  {
   "cell_type": "code",
   "execution_count": 88,
   "metadata": {},
   "outputs": [
    {
     "name": "stdout",
     "output_type": "stream",
     "text": [
      "Total nodes 50038\n",
      "parsed nodes 44650\n",
      "nodes with parents 44647\n",
      "\n"
     ]
    }
   ],
   "source": [
    "# Parse the gene ontology\n",
    "with gzip.open(\"data/go.json.gz\") as f:\n",
    "    ontology = json.load(f)\n",
    "\n",
    "parents = {}  # { term : list_of_parent_terms }\n",
    "for edge in ontology[\"graphs\"][0][\"edges\"]:\n",
    "    # select only is_a edges\n",
    "    if edge[\"pred\"] == \"is_a\":\n",
    "        parents.setdefault(edge[\"sub\"].split(\"_\")[1], []).append(edge[\"obj\"].split(\"_\")[1])\n",
    "\n",
    "nodes = []  # list of terms\n",
    "labels = {}  # { term : definition }\n",
    "for node in ontology[\"graphs\"][0][\"nodes\"]:\n",
    "    # exclude obsolete terms\n",
    "    if \"GO_\" in node[\"id\"] and \"deprecated\" not in node[\"meta\"]:\n",
    "        nodes.append(node[\"id\"].split(\"_\")[1])\n",
    "        labels[node[\"id\"].split(\"_\")[1]] = node[\"lbl\"]\n",
    "\n",
    "print(\"Total nodes {}\\nparsed nodes {}\\nnodes with parents {}\\n\".format(len(ontology[\"graphs\"][0][\"nodes\"]), len(nodes), len(parents)))"
   ]
  },
  {
   "cell_type": "code",
   "execution_count": 89,
   "metadata": {},
   "outputs": [
    {
     "name": "stdout",
     "output_type": "stream",
     "text": [
      "Roots: [('0003674', 'molecular_function'), ('0005575', 'cellular_component'), ('0008150', 'biological_process')]\n",
      "\n"
     ]
    }
   ],
   "source": [
    "roots = set(nodes) - set(parents.keys())\n",
    "print(\"Roots: {}\\n\".format([(r, labels[r]) for r in roots]))"
   ]
  },
  {
   "cell_type": "code",
   "execution_count": 90,
   "metadata": {},
   "outputs": [],
   "source": [
    "# Build an ancestors dictionary\n",
    "ancestors = {}  # { term : list_of_ancestor_terms }\n",
    "for node in nodes:\n",
    "    node_ancestors = []\n",
    "    node_parents = parents.get(node)\n",
    "    # Loop parent levels until no more parents\n",
    "    while node_parents:\n",
    "        node_ancestors.extend(node_parents)\n",
    "        # Get the parents of current parents (1 level up)\n",
    "        node_parents = [term for parent in node_parents for term in parents.get(parent, [])]\n",
    "    ancestors[node] = node_ancestors"
   ]
  },
  {
   "cell_type": "code",
   "execution_count": 91,
   "metadata": {},
   "outputs": [],
   "source": [
    "# *** Calculate the minimum depth (distance from the root) of each term\n",
    "depth = {}  # { term : min_depth }\n",
    "for node in nodes:\n",
    "    c = 0  # Depth level\n",
    "    node_parents = parents.get(node)\n",
    "    while node_parents:\n",
    "        c += 1\n",
    "        if roots.intersection(set(node_parents)):  # break the loop if the root is among parents\n",
    "            break\n",
    "        # Get the parents of current parents (1 level up)\n",
    "        node_parents = [term for parent in node_parents for term in parents.get(parent, [])]\n",
    "    depth[node] = c"
   ]
  },
  {
   "cell_type": "code",
   "execution_count": 93,
   "metadata": {},
   "outputs": [
    {
     "data": {
      "text/plain": [
       "0"
      ]
     },
     "execution_count": 93,
     "metadata": {},
     "output_type": "execute_result"
    }
   ],
   "source": [
    "depth[\"0003674\"]"
   ]
  },
  {
   "cell_type": "code",
   "execution_count": 6,
   "metadata": {},
   "outputs": [],
   "source": [
    "def gen_block(f):\n",
    "    \"\"\"\n",
    "    Parse and split the input.\n",
    "    The input must be sorted by target name, second column.\n",
    "\n",
    "    UniProtKB       A0A024R1R8      hCG_2014768             GO:0002181      PMID:21873635   IBA     PANTHER:PTN002008372|SGD:S000007246     P       HCG2014768, isoform CRA_a       hCG_2014768     protein taxon:9606      20171102        GO_Central\n",
    "    UniProtKB       A0A024RBG1      NUDT4B          GO:0003723      GO_REF:0000037  IEA     UniProtKB-KW:KW-0694    F       Diphosphoinositol polyphosphate phosphohydrolase NUDT4B NUDT4B  protein taxon:9606      20191109        UniProt\n",
    "    UniProtKB       A0A024RBG1      NUDT4B          GO:0005829      GO_REF:0000052  IDA             C       Diphosphoinositol polyphosphate phosphohydrolase NUDT4B NUDT4B  protein taxon:9606      20161204        HPA\n",
    "    \"\"\"\n",
    "    name, old_name = None, None\n",
    "    chunk = []\n",
    "    for line in f:\n",
    "        line = line.decode()\n",
    "        if line and line[0] != \"!\":\n",
    "            _, name, _, _, term, _, ec, _, namespace, protein_name = line.split(\"\\t\")[:10]\n",
    "            term = term[3:]  # remove \"GO:\" from the term ID\n",
    "            if name != old_name and old_name:\n",
    "                yield (old_name, set(chunk))  # return a set as there can be repetitions, i.e. the same term with different evidence codes\n",
    "                chunk = []\n",
    "            old_name = name\n",
    "            chunk.append(term)\n",
    "    # Last line\n",
    "    if old_name:\n",
    "        yield (old_name, set(chunk))"
   ]
  },
  {
   "cell_type": "markdown",
   "metadata": {},
   "source": [
    "## create a dictionary with all the annotations"
   ]
  },
  {
   "cell_type": "code",
   "execution_count": 7,
   "metadata": {},
   "outputs": [],
   "source": [
    "protein_to_go = {}  # { protein_id : (GO terms) }\n",
    "with gzip.open(\"data/goa_human.gaf.gz\") as f:\n",
    "    for acc, annotations in gen_block(f):\n",
    "        protein_to_go[acc] = annotations"
   ]
  },
  {
   "cell_type": "code",
   "execution_count": 17,
   "metadata": {},
   "outputs": [],
   "source": [
    "with open(\"data/original.txt\") as f:\n",
    "    dataset = f.read().splitlines() "
   ]
  },
  {
   "cell_type": "code",
   "execution_count": 18,
   "metadata": {},
   "outputs": [],
   "source": [
    "with open(\"data/swiss-human-id.txt\") as f:\n",
    "    background_dataset = f.read().splitlines() "
   ]
  },
  {
   "cell_type": "markdown",
   "metadata": {},
   "source": [
    "## lets check if all the proteins in the dataset are annotated"
   ]
  },
  {
   "cell_type": "code",
   "execution_count": 19,
   "metadata": {},
   "outputs": [
    {
     "data": {
      "text/plain": [
       "20367"
      ]
     },
     "execution_count": 19,
     "metadata": {},
     "output_type": "execute_result"
    }
   ],
   "source": [
    "len(background_dataset)"
   ]
  },
  {
   "cell_type": "code",
   "execution_count": 20,
   "metadata": {},
   "outputs": [
    {
     "data": {
      "text/plain": [
       "92"
      ]
     },
     "execution_count": 20,
     "metadata": {},
     "output_type": "execute_result"
    }
   ],
   "source": [
    "len(dataset)"
   ]
  },
  {
   "cell_type": "code",
   "execution_count": 21,
   "metadata": {},
   "outputs": [
    {
     "data": {
      "text/plain": [
       "19473"
      ]
     },
     "execution_count": 21,
     "metadata": {},
     "output_type": "execute_result"
    }
   ],
   "source": [
    "len(set(protein_to_go.keys()))"
   ]
  },
  {
   "cell_type": "code",
   "execution_count": 22,
   "metadata": {},
   "outputs": [
    {
     "data": {
      "text/plain": [
       "92"
      ]
     },
     "execution_count": 22,
     "metadata": {},
     "output_type": "execute_result"
    }
   ],
   "source": [
    "len(set(background_dataset).intersection(set(dataset)))"
   ]
  },
  {
   "cell_type": "code",
   "execution_count": 23,
   "metadata": {},
   "outputs": [
    {
     "data": {
      "text/plain": [
       "91"
      ]
     },
     "execution_count": 23,
     "metadata": {},
     "output_type": "execute_result"
    }
   ],
   "source": [
    "len(set(protein_to_go.keys()).intersection(set(dataset)))"
   ]
  },
  {
   "cell_type": "markdown",
   "metadata": {},
   "source": [
    "## orko can one is missing "
   ]
  },
  {
   "cell_type": "markdown",
   "metadata": {},
   "source": [
    "# WHO?"
   ]
  },
  {
   "cell_type": "code",
   "execution_count": 24,
   "metadata": {},
   "outputs": [
    {
     "data": {
      "text/plain": [
       "{'Q8TC17'}"
      ]
     },
     "execution_count": 24,
     "metadata": {},
     "output_type": "execute_result"
    }
   ],
   "source": [
    "set(dataset) - set(protein_to_go.keys()).intersection(set(dataset))"
   ]
  },
  {
   "cell_type": "markdown",
   "metadata": {},
   "source": [
    "## thiz fucker"
   ]
  },
  {
   "cell_type": "markdown",
   "metadata": {},
   "source": [
    "<br>\n",
    "<br>\n",
    "<br>\n",
    "<br>\n",
    "\n",
    "\n"
   ]
  },
  {
   "cell_type": "markdown",
   "metadata": {},
   "source": [
    "# Enrichment"
   ]
  },
  {
   "cell_type": "code",
   "execution_count": 55,
   "metadata": {},
   "outputs": [],
   "source": [
    "def count_ancestors(protein_list):\n",
    "    counts = {}\n",
    "\n",
    "    for protein in set(protein_list).intersection(set(protein_to_go.keys())):\n",
    "        annotations = protein_to_go[protein]\n",
    "\n",
    "        terms_ancestors = copy.copy(annotations)  # annotations + ancestor terms\n",
    "        for term in annotations:  # directly annotated terms\n",
    "            terms_ancestors.update(set(ancestors.get(term, [])))  # add ancestors\n",
    "        for term in terms_ancestors:\n",
    "            counts.setdefault(term, 0)\n",
    "            counts[term] += 1\n",
    "        \n",
    "    return counts"
   ]
  },
  {
   "cell_type": "code",
   "execution_count": 61,
   "metadata": {},
   "outputs": [],
   "source": [
    "dataset_count = count_ancestors(dataset)\n",
    "background_count = count_ancestors(background_dataset)"
   ]
  },
  {
   "cell_type": "code",
   "execution_count": 62,
   "metadata": {},
   "outputs": [
    {
     "name": "stdout",
     "output_type": "stream",
     "text": [
      "2591 22298 2591\n"
     ]
    }
   ],
   "source": [
    "print(len(dataset_count), len(background_count), len(set(dataset_count.keys()).intersection(set(background_count.keys()))))"
   ]
  },
  {
   "cell_type": "code",
   "execution_count": 133,
   "metadata": {},
   "outputs": [],
   "source": [
    "# imput: two dict of the type {GO_term: count} \n",
    "#        a dict of depth and one with the labels\n",
    "def fisher_test(d_count, bg_count, depth, l):\n",
    "    \n",
    "    # Init result dict\n",
    "    results = {}\n",
    "    \n",
    "    # Get the tot number of counts\n",
    "    tot_d = np.sum(list(d_count.values()))\n",
    "    tot_bg = np.sum(list(bg_count.values()))\n",
    "    \n",
    "    \n",
    "    key_intersection = set(d_count.keys()).intersection(set(bg_count.keys()))\n",
    "    \n",
    "    for key in key_intersection:\n",
    "        ### 1. Set frequencies\n",
    "        # Number of occurrences of the specific GO term in d_count   \n",
    "        a = d_count[key]\n",
    "        # Number of occurrences of the specific GO term in bg_count\n",
    "        b = bg_count[key]\n",
    "        # Number of GO terms that are different from the specific one in d_count\n",
    "        not_a = tot_d - a\n",
    "        # Number of GO terms that are different from the specific one in bg_count\n",
    "        not_b = tot_bg - b\n",
    "        # 2. Perform Fisher Exact Test\n",
    "        fisher_results = fisher_exact([[a, b],[not_a, not_b]])\n",
    "        # 3. Save results\n",
    "        results.setdefault(key, {'OddRatio': fisher_results[0], 'p-value': fisher_results[1],\n",
    "                                'depth': depth[key], 'label': l[key]})\n",
    "    \n",
    "    # Return the DataFrame\n",
    "    return pd.DataFrame(results).transpose()"
   ]
  },
  {
   "cell_type": "code",
   "execution_count": 134,
   "metadata": {},
   "outputs": [],
   "source": [
    "pesce = fisher_test(dataset_count, background_count, depth, labels)"
   ]
  },
  {
   "cell_type": "code",
   "execution_count": 135,
   "metadata": {},
   "outputs": [],
   "source": [
    "pesce.sort_values(by = \"OddRatio\", ascending=False, inplace=True)"
   ]
  },
  {
   "cell_type": "code",
   "execution_count": 136,
   "metadata": {},
   "outputs": [
    {
     "data": {
      "text/html": [
       "<div>\n",
       "<style scoped>\n",
       "    .dataframe tbody tr th:only-of-type {\n",
       "        vertical-align: middle;\n",
       "    }\n",
       "\n",
       "    .dataframe tbody tr th {\n",
       "        vertical-align: top;\n",
       "    }\n",
       "\n",
       "    .dataframe thead th {\n",
       "        text-align: right;\n",
       "    }\n",
       "</style>\n",
       "<table border=\"1\" class=\"dataframe\">\n",
       "  <thead>\n",
       "    <tr style=\"text-align: right;\">\n",
       "      <th></th>\n",
       "      <th>OddRatio</th>\n",
       "      <th>p-value</th>\n",
       "      <th>depth</th>\n",
       "      <th>label</th>\n",
       "    </tr>\n",
       "  </thead>\n",
       "  <tbody>\n",
       "    <tr>\n",
       "      <td>0035685</td>\n",
       "      <td>102.965</td>\n",
       "      <td>0.000548114</td>\n",
       "      <td>4</td>\n",
       "      <td>helper T cell diapedesis</td>\n",
       "    </tr>\n",
       "    <tr>\n",
       "      <td>0033277</td>\n",
       "      <td>102.965</td>\n",
       "      <td>0.000548114</td>\n",
       "      <td>4</td>\n",
       "      <td>abortive mitotic cell cycle</td>\n",
       "    </tr>\n",
       "    <tr>\n",
       "      <td>0016170</td>\n",
       "      <td>102.959</td>\n",
       "      <td>0.0191471</td>\n",
       "      <td>5</td>\n",
       "      <td>interleukin-15 receptor binding</td>\n",
       "    </tr>\n",
       "    <tr>\n",
       "      <td>0097699</td>\n",
       "      <td>102.959</td>\n",
       "      <td>0.0191471</td>\n",
       "      <td>5</td>\n",
       "      <td>vascular endothelial cell response to fluid sh...</td>\n",
       "    </tr>\n",
       "    <tr>\n",
       "      <td>0032752</td>\n",
       "      <td>102.959</td>\n",
       "      <td>0.0191471</td>\n",
       "      <td>6</td>\n",
       "      <td>positive regulation of interleukin-3 production</td>\n",
       "    </tr>\n",
       "    <tr>\n",
       "      <td>1990859</td>\n",
       "      <td>102.959</td>\n",
       "      <td>0.0191471</td>\n",
       "      <td>6</td>\n",
       "      <td>cellular response to endothelin</td>\n",
       "    </tr>\n",
       "    <tr>\n",
       "      <td>1904618</td>\n",
       "      <td>102.959</td>\n",
       "      <td>0.0191471</td>\n",
       "      <td>6</td>\n",
       "      <td>positive regulation of actin binding</td>\n",
       "    </tr>\n",
       "    <tr>\n",
       "      <td>0045399</td>\n",
       "      <td>102.959</td>\n",
       "      <td>0.0191471</td>\n",
       "      <td>6</td>\n",
       "      <td>regulation of interleukin-3 biosynthetic process</td>\n",
       "    </tr>\n",
       "    <tr>\n",
       "      <td>0008269</td>\n",
       "      <td>102.959</td>\n",
       "      <td>0.0191471</td>\n",
       "      <td>5</td>\n",
       "      <td>JAK pathway signal transduction adaptor activity</td>\n",
       "    </tr>\n",
       "    <tr>\n",
       "      <td>1903674</td>\n",
       "      <td>102.959</td>\n",
       "      <td>0.0191471</td>\n",
       "      <td>9</td>\n",
       "      <td>regulation of cap-dependent translational init...</td>\n",
       "    </tr>\n",
       "    <tr>\n",
       "      <td>0032633</td>\n",
       "      <td>102.959</td>\n",
       "      <td>0.0191471</td>\n",
       "      <td>3</td>\n",
       "      <td>interleukin-4 production</td>\n",
       "    </tr>\n",
       "    <tr>\n",
       "      <td>1904531</td>\n",
       "      <td>102.959</td>\n",
       "      <td>0.0191471</td>\n",
       "      <td>7</td>\n",
       "      <td>positive regulation of actin filament binding</td>\n",
       "    </tr>\n",
       "    <tr>\n",
       "      <td>0002721</td>\n",
       "      <td>102.959</td>\n",
       "      <td>0.0191471</td>\n",
       "      <td>6</td>\n",
       "      <td>regulation of B cell cytokine production</td>\n",
       "    </tr>\n",
       "    <tr>\n",
       "      <td>1900235</td>\n",
       "      <td>102.959</td>\n",
       "      <td>0.0191471</td>\n",
       "      <td>7</td>\n",
       "      <td>negative regulation of Kit signaling pathway</td>\n",
       "    </tr>\n",
       "    <tr>\n",
       "      <td>0045401</td>\n",
       "      <td>102.959</td>\n",
       "      <td>0.0191471</td>\n",
       "      <td>7</td>\n",
       "      <td>positive regulation of interleukin-3 biosynthe...</td>\n",
       "    </tr>\n",
       "    <tr>\n",
       "      <td>1900234</td>\n",
       "      <td>102.959</td>\n",
       "      <td>0.0191471</td>\n",
       "      <td>6</td>\n",
       "      <td>regulation of Kit signaling pathway</td>\n",
       "    </tr>\n",
       "    <tr>\n",
       "      <td>0002343</td>\n",
       "      <td>102.959</td>\n",
       "      <td>0.0191471</td>\n",
       "      <td>3</td>\n",
       "      <td>peripheral B cell selection</td>\n",
       "    </tr>\n",
       "    <tr>\n",
       "      <td>0000304</td>\n",
       "      <td>102.959</td>\n",
       "      <td>0.0191471</td>\n",
       "      <td>4</td>\n",
       "      <td>response to singlet oxygen</td>\n",
       "    </tr>\n",
       "    <tr>\n",
       "      <td>0001545</td>\n",
       "      <td>102.959</td>\n",
       "      <td>0.0191471</td>\n",
       "      <td>2</td>\n",
       "      <td>primary ovarian follicle growth</td>\n",
       "    </tr>\n",
       "    <tr>\n",
       "      <td>0051463</td>\n",
       "      <td>102.959</td>\n",
       "      <td>0.0191471</td>\n",
       "      <td>6</td>\n",
       "      <td>negative regulation of cortisol secretion</td>\n",
       "    </tr>\n",
       "    <tr>\n",
       "      <td>0002332</td>\n",
       "      <td>102.959</td>\n",
       "      <td>0.0191471</td>\n",
       "      <td>7</td>\n",
       "      <td>transitional stage B cell differentiation</td>\n",
       "    </tr>\n",
       "    <tr>\n",
       "      <td>0046544</td>\n",
       "      <td>102.959</td>\n",
       "      <td>0.0191471</td>\n",
       "      <td>4</td>\n",
       "      <td>development of secondary male sexual character...</td>\n",
       "    </tr>\n",
       "    <tr>\n",
       "      <td>0002333</td>\n",
       "      <td>102.959</td>\n",
       "      <td>0.0191471</td>\n",
       "      <td>8</td>\n",
       "      <td>transitional one stage B cell differentiation</td>\n",
       "    </tr>\n",
       "    <tr>\n",
       "      <td>1903676</td>\n",
       "      <td>102.959</td>\n",
       "      <td>0.0191471</td>\n",
       "      <td>10</td>\n",
       "      <td>positive regulation of cap-dependent translati...</td>\n",
       "    </tr>\n",
       "    <tr>\n",
       "      <td>0002344</td>\n",
       "      <td>102.959</td>\n",
       "      <td>0.0191471</td>\n",
       "      <td>4</td>\n",
       "      <td>B cell affinity maturation</td>\n",
       "    </tr>\n",
       "    <tr>\n",
       "      <td>0046935</td>\n",
       "      <td>82.4237</td>\n",
       "      <td>9.51265e-18</td>\n",
       "      <td>5</td>\n",
       "      <td>1-phosphatidylinositol-3-kinase regulator acti...</td>\n",
       "    </tr>\n",
       "    <tr>\n",
       "      <td>0001784</td>\n",
       "      <td>72.952</td>\n",
       "      <td>8.75326e-40</td>\n",
       "      <td>5</td>\n",
       "      <td>phosphotyrosine residue binding</td>\n",
       "    </tr>\n",
       "    <tr>\n",
       "      <td>0035014</td>\n",
       "      <td>68.6863</td>\n",
       "      <td>4.60824e-17</td>\n",
       "      <td>4</td>\n",
       "      <td>phosphatidylinositol 3-kinase regulator activity</td>\n",
       "    </tr>\n",
       "    <tr>\n",
       "      <td>0005167</td>\n",
       "      <td>68.652</td>\n",
       "      <td>1.71637e-06</td>\n",
       "      <td>6</td>\n",
       "      <td>neurotrophin TRK receptor binding</td>\n",
       "    </tr>\n",
       "    <tr>\n",
       "      <td>0005168</td>\n",
       "      <td>68.652</td>\n",
       "      <td>1.71637e-06</td>\n",
       "      <td>7</td>\n",
       "      <td>neurotrophin TRKA receptor binding</td>\n",
       "    </tr>\n",
       "    <tr>\n",
       "      <td>0002553</td>\n",
       "      <td>68.6434</td>\n",
       "      <td>0.000907675</td>\n",
       "      <td>3</td>\n",
       "      <td>histamine secretion by mast cell</td>\n",
       "    </tr>\n",
       "    <tr>\n",
       "      <td>0140031</td>\n",
       "      <td>68.6434</td>\n",
       "      <td>0.000907675</td>\n",
       "      <td>4</td>\n",
       "      <td>phosphorylation-dependent protein binding</td>\n",
       "    </tr>\n",
       "    <tr>\n",
       "      <td>0036493</td>\n",
       "      <td>68.6434</td>\n",
       "      <td>0.000907675</td>\n",
       "      <td>6</td>\n",
       "      <td>positive regulation of translation in response...</td>\n",
       "    </tr>\n",
       "    <tr>\n",
       "      <td>0002441</td>\n",
       "      <td>68.6434</td>\n",
       "      <td>0.000907675</td>\n",
       "      <td>6</td>\n",
       "      <td>histamine secretion involved in inflammatory r...</td>\n",
       "    </tr>\n",
       "    <tr>\n",
       "      <td>0098749</td>\n",
       "      <td>68.6434</td>\n",
       "      <td>0.000907675</td>\n",
       "      <td>6</td>\n",
       "      <td>cerebellar neuron development</td>\n",
       "    </tr>\n",
       "    <tr>\n",
       "      <td>0043366</td>\n",
       "      <td>68.6434</td>\n",
       "      <td>0.000907675</td>\n",
       "      <td>3</td>\n",
       "      <td>beta selection</td>\n",
       "    </tr>\n",
       "    <tr>\n",
       "      <td>0038083</td>\n",
       "      <td>59.8458</td>\n",
       "      <td>4.29033e-24</td>\n",
       "      <td>8</td>\n",
       "      <td>peptidyl-tyrosine autophosphorylation</td>\n",
       "    </tr>\n",
       "    <tr>\n",
       "      <td>0045309</td>\n",
       "      <td>57.5195</td>\n",
       "      <td>1.58573e-37</td>\n",
       "      <td>4</td>\n",
       "      <td>protein phosphorylated amino acid binding</td>\n",
       "    </tr>\n",
       "    <tr>\n",
       "      <td>0005070</td>\n",
       "      <td>55.3891</td>\n",
       "      <td>3.7013e-37</td>\n",
       "      <td>5</td>\n",
       "      <td>SH3/SH2 adaptor activity</td>\n",
       "    </tr>\n",
       "    <tr>\n",
       "      <td>0004715</td>\n",
       "      <td>53.7945</td>\n",
       "      <td>8.88353e-31</td>\n",
       "      <td>5</td>\n",
       "      <td>non-membrane spanning protein tyrosine kinase ...</td>\n",
       "    </tr>\n",
       "    <tr>\n",
       "      <td>0050904</td>\n",
       "      <td>51.4857</td>\n",
       "      <td>7.15903e-05</td>\n",
       "      <td>3</td>\n",
       "      <td>diapedesis</td>\n",
       "    </tr>\n",
       "    <tr>\n",
       "      <td>1990441</td>\n",
       "      <td>51.4825</td>\n",
       "      <td>0.0013528</td>\n",
       "      <td>5</td>\n",
       "      <td>negative regulation of transcription from RNA ...</td>\n",
       "    </tr>\n",
       "    <tr>\n",
       "      <td>1903912</td>\n",
       "      <td>51.4825</td>\n",
       "      <td>0.0013528</td>\n",
       "      <td>6</td>\n",
       "      <td>negative regulation of endoplasmic reticulum s...</td>\n",
       "    </tr>\n",
       "    <tr>\n",
       "      <td>0042610</td>\n",
       "      <td>51.4825</td>\n",
       "      <td>0.0013528</td>\n",
       "      <td>4</td>\n",
       "      <td>CD8 receptor binding</td>\n",
       "    </tr>\n",
       "    <tr>\n",
       "      <td>0045588</td>\n",
       "      <td>51.4825</td>\n",
       "      <td>0.0013528</td>\n",
       "      <td>9</td>\n",
       "      <td>positive regulation of gamma-delta T cell diff...</td>\n",
       "    </tr>\n",
       "    <tr>\n",
       "      <td>0002238</td>\n",
       "      <td>51.4825</td>\n",
       "      <td>0.0013528</td>\n",
       "      <td>4</td>\n",
       "      <td>response to molecule of fungal origin</td>\n",
       "    </tr>\n",
       "    <tr>\n",
       "      <td>0071226</td>\n",
       "      <td>51.4825</td>\n",
       "      <td>0.0013528</td>\n",
       "      <td>4</td>\n",
       "      <td>cellular response to molecule of fungal origin</td>\n",
       "    </tr>\n",
       "    <tr>\n",
       "      <td>0086098</td>\n",
       "      <td>51.4793</td>\n",
       "      <td>0.0285827</td>\n",
       "      <td>5</td>\n",
       "      <td>angiotensin-activated signaling pathway involv...</td>\n",
       "    </tr>\n",
       "    <tr>\n",
       "      <td>1990051</td>\n",
       "      <td>51.4793</td>\n",
       "      <td>0.0285827</td>\n",
       "      <td>9</td>\n",
       "      <td>activation of protein kinase C activity</td>\n",
       "    </tr>\n",
       "    <tr>\n",
       "      <td>2000850</td>\n",
       "      <td>51.4793</td>\n",
       "      <td>0.0285827</td>\n",
       "      <td>7</td>\n",
       "      <td>negative regulation of glucocorticoid secretion</td>\n",
       "    </tr>\n",
       "  </tbody>\n",
       "</table>\n",
       "</div>"
      ],
      "text/plain": [
       "        OddRatio      p-value depth  \\\n",
       "0035685  102.965  0.000548114     4   \n",
       "0033277  102.965  0.000548114     4   \n",
       "0016170  102.959    0.0191471     5   \n",
       "0097699  102.959    0.0191471     5   \n",
       "0032752  102.959    0.0191471     6   \n",
       "1990859  102.959    0.0191471     6   \n",
       "1904618  102.959    0.0191471     6   \n",
       "0045399  102.959    0.0191471     6   \n",
       "0008269  102.959    0.0191471     5   \n",
       "1903674  102.959    0.0191471     9   \n",
       "0032633  102.959    0.0191471     3   \n",
       "1904531  102.959    0.0191471     7   \n",
       "0002721  102.959    0.0191471     6   \n",
       "1900235  102.959    0.0191471     7   \n",
       "0045401  102.959    0.0191471     7   \n",
       "1900234  102.959    0.0191471     6   \n",
       "0002343  102.959    0.0191471     3   \n",
       "0000304  102.959    0.0191471     4   \n",
       "0001545  102.959    0.0191471     2   \n",
       "0051463  102.959    0.0191471     6   \n",
       "0002332  102.959    0.0191471     7   \n",
       "0046544  102.959    0.0191471     4   \n",
       "0002333  102.959    0.0191471     8   \n",
       "1903676  102.959    0.0191471    10   \n",
       "0002344  102.959    0.0191471     4   \n",
       "0046935  82.4237  9.51265e-18     5   \n",
       "0001784   72.952  8.75326e-40     5   \n",
       "0035014  68.6863  4.60824e-17     4   \n",
       "0005167   68.652  1.71637e-06     6   \n",
       "0005168   68.652  1.71637e-06     7   \n",
       "0002553  68.6434  0.000907675     3   \n",
       "0140031  68.6434  0.000907675     4   \n",
       "0036493  68.6434  0.000907675     6   \n",
       "0002441  68.6434  0.000907675     6   \n",
       "0098749  68.6434  0.000907675     6   \n",
       "0043366  68.6434  0.000907675     3   \n",
       "0038083  59.8458  4.29033e-24     8   \n",
       "0045309  57.5195  1.58573e-37     4   \n",
       "0005070  55.3891   3.7013e-37     5   \n",
       "0004715  53.7945  8.88353e-31     5   \n",
       "0050904  51.4857  7.15903e-05     3   \n",
       "1990441  51.4825    0.0013528     5   \n",
       "1903912  51.4825    0.0013528     6   \n",
       "0042610  51.4825    0.0013528     4   \n",
       "0045588  51.4825    0.0013528     9   \n",
       "0002238  51.4825    0.0013528     4   \n",
       "0071226  51.4825    0.0013528     4   \n",
       "0086098  51.4793    0.0285827     5   \n",
       "1990051  51.4793    0.0285827     9   \n",
       "2000850  51.4793    0.0285827     7   \n",
       "\n",
       "                                                     label  \n",
       "0035685                           helper T cell diapedesis  \n",
       "0033277                        abortive mitotic cell cycle  \n",
       "0016170                    interleukin-15 receptor binding  \n",
       "0097699  vascular endothelial cell response to fluid sh...  \n",
       "0032752    positive regulation of interleukin-3 production  \n",
       "1990859                    cellular response to endothelin  \n",
       "1904618               positive regulation of actin binding  \n",
       "0045399   regulation of interleukin-3 biosynthetic process  \n",
       "0008269   JAK pathway signal transduction adaptor activity  \n",
       "1903674  regulation of cap-dependent translational init...  \n",
       "0032633                           interleukin-4 production  \n",
       "1904531      positive regulation of actin filament binding  \n",
       "0002721           regulation of B cell cytokine production  \n",
       "1900235       negative regulation of Kit signaling pathway  \n",
       "0045401  positive regulation of interleukin-3 biosynthe...  \n",
       "1900234                regulation of Kit signaling pathway  \n",
       "0002343                        peripheral B cell selection  \n",
       "0000304                         response to singlet oxygen  \n",
       "0001545                    primary ovarian follicle growth  \n",
       "0051463          negative regulation of cortisol secretion  \n",
       "0002332          transitional stage B cell differentiation  \n",
       "0046544  development of secondary male sexual character...  \n",
       "0002333      transitional one stage B cell differentiation  \n",
       "1903676  positive regulation of cap-dependent translati...  \n",
       "0002344                         B cell affinity maturation  \n",
       "0046935  1-phosphatidylinositol-3-kinase regulator acti...  \n",
       "0001784                    phosphotyrosine residue binding  \n",
       "0035014   phosphatidylinositol 3-kinase regulator activity  \n",
       "0005167                  neurotrophin TRK receptor binding  \n",
       "0005168                 neurotrophin TRKA receptor binding  \n",
       "0002553                   histamine secretion by mast cell  \n",
       "0140031          phosphorylation-dependent protein binding  \n",
       "0036493  positive regulation of translation in response...  \n",
       "0002441  histamine secretion involved in inflammatory r...  \n",
       "0098749                      cerebellar neuron development  \n",
       "0043366                                     beta selection  \n",
       "0038083              peptidyl-tyrosine autophosphorylation  \n",
       "0045309          protein phosphorylated amino acid binding  \n",
       "0005070                           SH3/SH2 adaptor activity  \n",
       "0004715  non-membrane spanning protein tyrosine kinase ...  \n",
       "0050904                                         diapedesis  \n",
       "1990441  negative regulation of transcription from RNA ...  \n",
       "1903912  negative regulation of endoplasmic reticulum s...  \n",
       "0042610                               CD8 receptor binding  \n",
       "0045588  positive regulation of gamma-delta T cell diff...  \n",
       "0002238              response to molecule of fungal origin  \n",
       "0071226     cellular response to molecule of fungal origin  \n",
       "0086098  angiotensin-activated signaling pathway involv...  \n",
       "1990051            activation of protein kinase C activity  \n",
       "2000850    negative regulation of glucocorticoid secretion  "
      ]
     },
     "execution_count": 136,
     "metadata": {},
     "output_type": "execute_result"
    }
   ],
   "source": [
    "pesce.head(50)"
   ]
  },
  {
   "cell_type": "code",
   "execution_count": 118,
   "metadata": {},
   "outputs": [],
   "source": [
    "max_depth = pesce.depth <= 2"
   ]
  },
  {
   "cell_type": "code",
   "execution_count": 119,
   "metadata": {},
   "outputs": [
    {
     "data": {
      "text/html": [
       "<div>\n",
       "<style scoped>\n",
       "    .dataframe tbody tr th:only-of-type {\n",
       "        vertical-align: middle;\n",
       "    }\n",
       "\n",
       "    .dataframe tbody tr th {\n",
       "        vertical-align: top;\n",
       "    }\n",
       "\n",
       "    .dataframe thead th {\n",
       "        text-align: right;\n",
       "    }\n",
       "</style>\n",
       "<table border=\"1\" class=\"dataframe\">\n",
       "  <thead>\n",
       "    <tr style=\"text-align: right;\">\n",
       "      <th></th>\n",
       "      <th>OddRatio</th>\n",
       "      <th>p-value</th>\n",
       "      <th>depth</th>\n",
       "    </tr>\n",
       "  </thead>\n",
       "  <tbody>\n",
       "    <tr>\n",
       "      <td>0001545</td>\n",
       "      <td>102.958708</td>\n",
       "      <td>1.914707e-02</td>\n",
       "      <td>2.0</td>\n",
       "    </tr>\n",
       "    <tr>\n",
       "      <td>0002339</td>\n",
       "      <td>34.319527</td>\n",
       "      <td>3.792755e-02</td>\n",
       "      <td>2.0</td>\n",
       "    </tr>\n",
       "    <tr>\n",
       "      <td>0035426</td>\n",
       "      <td>25.739630</td>\n",
       "      <td>4.718252e-02</td>\n",
       "      <td>2.0</td>\n",
       "    </tr>\n",
       "    <tr>\n",
       "      <td>0031294</td>\n",
       "      <td>22.894917</td>\n",
       "      <td>1.904113e-12</td>\n",
       "      <td>2.0</td>\n",
       "    </tr>\n",
       "    <tr>\n",
       "      <td>0030061</td>\n",
       "      <td>14.708333</td>\n",
       "      <td>7.441668e-02</td>\n",
       "      <td>2.0</td>\n",
       "    </tr>\n",
       "    <tr>\n",
       "      <td>...</td>\n",
       "      <td>...</td>\n",
       "      <td>...</td>\n",
       "      <td>...</td>\n",
       "    </tr>\n",
       "    <tr>\n",
       "      <td>0005815</td>\n",
       "      <td>0.155464</td>\n",
       "      <td>2.574858e-02</td>\n",
       "      <td>2.0</td>\n",
       "    </tr>\n",
       "    <tr>\n",
       "      <td>0051606</td>\n",
       "      <td>0.151347</td>\n",
       "      <td>1.779443e-02</td>\n",
       "      <td>2.0</td>\n",
       "    </tr>\n",
       "    <tr>\n",
       "      <td>0007275</td>\n",
       "      <td>0.138695</td>\n",
       "      <td>1.280081e-02</td>\n",
       "      <td>2.0</td>\n",
       "    </tr>\n",
       "    <tr>\n",
       "      <td>0038023</td>\n",
       "      <td>0.068944</td>\n",
       "      <td>1.464697e-05</td>\n",
       "      <td>2.0</td>\n",
       "    </tr>\n",
       "    <tr>\n",
       "      <td>0060089</td>\n",
       "      <td>0.068530</td>\n",
       "      <td>1.482902e-05</td>\n",
       "      <td>1.0</td>\n",
       "    </tr>\n",
       "  </tbody>\n",
       "</table>\n",
       "<p>184 rows × 3 columns</p>\n",
       "</div>"
      ],
      "text/plain": [
       "           OddRatio       p-value  depth\n",
       "0001545  102.958708  1.914707e-02    2.0\n",
       "0002339   34.319527  3.792755e-02    2.0\n",
       "0035426   25.739630  4.718252e-02    2.0\n",
       "0031294   22.894917  1.904113e-12    2.0\n",
       "0030061   14.708333  7.441668e-02    2.0\n",
       "...             ...           ...    ...\n",
       "0005815    0.155464  2.574858e-02    2.0\n",
       "0051606    0.151347  1.779443e-02    2.0\n",
       "0007275    0.138695  1.280081e-02    2.0\n",
       "0038023    0.068944  1.464697e-05    2.0\n",
       "0060089    0.068530  1.482902e-05    1.0\n",
       "\n",
       "[184 rows x 3 columns]"
      ]
     },
     "execution_count": 119,
     "metadata": {},
     "output_type": "execute_result"
    }
   ],
   "source": [
    "pesce[max_depth]"
   ]
  },
  {
   "cell_type": "code",
   "execution_count": null,
   "metadata": {},
   "outputs": [],
   "source": []
  }
 ],
 "metadata": {
  "kernelspec": {
   "display_name": "Python 3",
   "language": "python",
   "name": "python3"
  },
  "language_info": {
   "codemirror_mode": {
    "name": "ipython",
    "version": 3
   },
   "file_extension": ".py",
   "mimetype": "text/x-python",
   "name": "python",
   "nbconvert_exporter": "python",
   "pygments_lexer": "ipython3",
   "version": "3.7.4"
  }
 },
 "nbformat": 4,
 "nbformat_minor": 2
}
